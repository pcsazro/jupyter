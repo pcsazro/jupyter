{
 "cells": [
  {
   "cell_type": "code",
   "execution_count": 425,
   "metadata": {
    "colab": {},
    "colab_type": "code",
    "id": "uYeq9kjnQwcI"
   },
   "outputs": [],
   "source": [
    "import pandas as pd\n",
    "import numpy as np"
   ]
  },
  {
   "cell_type": "code",
   "execution_count": 426,
   "metadata": {
    "colab": {},
    "colab_type": "code",
    "id": "UgzTi6gAXxx6"
   },
   "outputs": [],
   "source": [
    "from sklearn.model_selection import train_test_split"
   ]
  },
  {
   "cell_type": "code",
   "execution_count": 427,
   "metadata": {
    "colab": {},
    "colab_type": "code",
    "id": "iw9KkkiMQ0_V"
   },
   "outputs": [],
   "source": [
    "bmi_list = pd.read_csv('bmi.csv', encoding='utf-8')"
   ]
  },
  {
   "cell_type": "code",
   "execution_count": 428,
   "metadata": {
    "colab": {},
    "colab_type": "code",
    "id": "iLsEhJzxTQTM"
   },
   "outputs": [],
   "source": [
    "max_h = np.max(bmi_list['height'])"
   ]
  },
  {
   "cell_type": "code",
   "execution_count": 429,
   "metadata": {
    "colab": {
     "base_uri": "https://localhost:8080/",
     "height": 89
    },
    "colab_type": "code",
    "id": "BcsvF-TmZimd",
    "outputId": "372fa2ef-f70f-44c4-e776-4c9ff3fcf1dd"
   },
   "outputs": [
    {
     "data": {
      "text/plain": [
       "fat       7712\n",
       "thin      6338\n",
       "normal    5950\n",
       "Name: label, dtype: int64"
      ]
     },
     "execution_count": 429,
     "metadata": {
      "tags": []
     },
     "output_type": "execute_result"
    }
   ],
   "source": [
    "pd.value_counts(bmi_list['label'])"
   ]
  },
  {
   "cell_type": "code",
   "execution_count": 430,
   "metadata": {
    "colab": {
     "base_uri": "https://localhost:8080/",
     "height": 204
    },
    "colab_type": "code",
    "id": "EDEVB2mcQ7E-",
    "outputId": "feb866de-1190-47eb-c141-2e3f64985fc2"
   },
   "outputs": [
    {
     "data": {
      "text/html": [
       "<div>\n",
       "<style scoped>\n",
       "    .dataframe tbody tr th:only-of-type {\n",
       "        vertical-align: middle;\n",
       "    }\n",
       "\n",
       "    .dataframe tbody tr th {\n",
       "        vertical-align: top;\n",
       "    }\n",
       "\n",
       "    .dataframe thead th {\n",
       "        text-align: right;\n",
       "    }\n",
       "</style>\n",
       "<table border=\"1\" class=\"dataframe\">\n",
       "  <thead>\n",
       "    <tr style=\"text-align: right;\">\n",
       "      <th></th>\n",
       "      <th>height</th>\n",
       "      <th>weight</th>\n",
       "      <th>label</th>\n",
       "    </tr>\n",
       "  </thead>\n",
       "  <tbody>\n",
       "    <tr>\n",
       "      <th>0</th>\n",
       "      <td>140</td>\n",
       "      <td>45</td>\n",
       "      <td>normal</td>\n",
       "    </tr>\n",
       "    <tr>\n",
       "      <th>1</th>\n",
       "      <td>145</td>\n",
       "      <td>72</td>\n",
       "      <td>fat</td>\n",
       "    </tr>\n",
       "    <tr>\n",
       "      <th>2</th>\n",
       "      <td>150</td>\n",
       "      <td>61</td>\n",
       "      <td>fat</td>\n",
       "    </tr>\n",
       "    <tr>\n",
       "      <th>3</th>\n",
       "      <td>137</td>\n",
       "      <td>56</td>\n",
       "      <td>fat</td>\n",
       "    </tr>\n",
       "    <tr>\n",
       "      <th>4</th>\n",
       "      <td>192</td>\n",
       "      <td>48</td>\n",
       "      <td>thin</td>\n",
       "    </tr>\n",
       "  </tbody>\n",
       "</table>\n",
       "</div>"
      ],
      "text/plain": [
       "   height  weight   label\n",
       "0     140      45  normal\n",
       "1     145      72     fat\n",
       "2     150      61     fat\n",
       "3     137      56     fat\n",
       "4     192      48    thin"
      ]
     },
     "execution_count": 430,
     "metadata": {
      "tags": []
     },
     "output_type": "execute_result"
    }
   ],
   "source": [
    "bmi_list.head()"
   ]
  },
  {
   "cell_type": "code",
   "execution_count": 431,
   "metadata": {
    "colab": {},
    "colab_type": "code",
    "id": "Q5YpWuf3bwd3"
   },
   "outputs": [],
   "source": [
    "for i, row in bmi_list.iterrows() :\n",
    "    if bmi_list.at[i,'label'] == 'thin':\n",
    "        bmi_list.at[i,'label'] = 0"
   ]
  },
  {
   "cell_type": "code",
   "execution_count": 432,
   "metadata": {
    "colab": {},
    "colab_type": "code",
    "id": "nr5JP-ZmfiSA"
   },
   "outputs": [],
   "source": [
    "for i, row in bmi_list.iterrows() :\n",
    "    if bmi_list.at[i,'label'] == 'normal':\n",
    "        bmi_list.at[i,'label'] = 1"
   ]
  },
  {
   "cell_type": "code",
   "execution_count": 433,
   "metadata": {
    "colab": {},
    "colab_type": "code",
    "id": "NteeVG0yfkmZ"
   },
   "outputs": [],
   "source": [
    "for i, row in bmi_list.iterrows() :\n",
    "    if bmi_list.at[i,'label'] == 'fat':\n",
    "        bmi_list.at[i,'label'] = 2"
   ]
  },
  {
   "cell_type": "code",
   "execution_count": 434,
   "metadata": {
    "colab": {
     "base_uri": "https://localhost:8080/",
     "height": 204
    },
    "colab_type": "code",
    "id": "BW6cORYXfsSJ",
    "outputId": "351d9379-d5b6-4b44-a3bb-2751a4988605"
   },
   "outputs": [
    {
     "data": {
      "text/html": [
       "<div>\n",
       "<style scoped>\n",
       "    .dataframe tbody tr th:only-of-type {\n",
       "        vertical-align: middle;\n",
       "    }\n",
       "\n",
       "    .dataframe tbody tr th {\n",
       "        vertical-align: top;\n",
       "    }\n",
       "\n",
       "    .dataframe thead th {\n",
       "        text-align: right;\n",
       "    }\n",
       "</style>\n",
       "<table border=\"1\" class=\"dataframe\">\n",
       "  <thead>\n",
       "    <tr style=\"text-align: right;\">\n",
       "      <th></th>\n",
       "      <th>height</th>\n",
       "      <th>weight</th>\n",
       "      <th>label</th>\n",
       "    </tr>\n",
       "  </thead>\n",
       "  <tbody>\n",
       "    <tr>\n",
       "      <th>0</th>\n",
       "      <td>140</td>\n",
       "      <td>45</td>\n",
       "      <td>1</td>\n",
       "    </tr>\n",
       "    <tr>\n",
       "      <th>1</th>\n",
       "      <td>145</td>\n",
       "      <td>72</td>\n",
       "      <td>2</td>\n",
       "    </tr>\n",
       "    <tr>\n",
       "      <th>2</th>\n",
       "      <td>150</td>\n",
       "      <td>61</td>\n",
       "      <td>2</td>\n",
       "    </tr>\n",
       "    <tr>\n",
       "      <th>3</th>\n",
       "      <td>137</td>\n",
       "      <td>56</td>\n",
       "      <td>2</td>\n",
       "    </tr>\n",
       "    <tr>\n",
       "      <th>4</th>\n",
       "      <td>192</td>\n",
       "      <td>48</td>\n",
       "      <td>0</td>\n",
       "    </tr>\n",
       "  </tbody>\n",
       "</table>\n",
       "</div>"
      ],
      "text/plain": [
       "   height  weight label\n",
       "0     140      45     1\n",
       "1     145      72     2\n",
       "2     150      61     2\n",
       "3     137      56     2\n",
       "4     192      48     0"
      ]
     },
     "execution_count": 434,
     "metadata": {
      "tags": []
     },
     "output_type": "execute_result"
    }
   ],
   "source": [
    "bmi_list.head()"
   ]
  },
  {
   "cell_type": "code",
   "execution_count": 435,
   "metadata": {
    "colab": {},
    "colab_type": "code",
    "id": "cxJL4lfoZHem"
   },
   "outputs": [],
   "source": [
    "bmi_list['height'] = bmi_list['height']/max_h"
   ]
  },
  {
   "cell_type": "code",
   "execution_count": 436,
   "metadata": {
    "colab": {},
    "colab_type": "code",
    "id": "PHQHpKuVRQOW"
   },
   "outputs": [],
   "source": [
    "max_w = np.max(bmi_list['weight'])"
   ]
  },
  {
   "cell_type": "code",
   "execution_count": 437,
   "metadata": {
    "colab": {},
    "colab_type": "code",
    "id": "1Y4K6lEgZRP2"
   },
   "outputs": [],
   "source": [
    "bmi_list['weight'] = bmi_list['weight']/max_w"
   ]
  },
  {
   "cell_type": "code",
   "execution_count": 438,
   "metadata": {
    "colab": {},
    "colab_type": "code",
    "id": "IxMUlLJrX8tv"
   },
   "outputs": [],
   "source": [
    "y = bmi_list.loc[:,'label']"
   ]
  },
  {
   "cell_type": "code",
   "execution_count": 439,
   "metadata": {
    "colab": {},
    "colab_type": "code",
    "id": "V3U-D5t4X8Cw"
   },
   "outputs": [],
   "source": [
    "x = bmi_list.loc[:,['height','weight']]"
   ]
  },
  {
   "cell_type": "code",
   "execution_count": 440,
   "metadata": {
    "colab": {},
    "colab_type": "code",
    "id": "fTfyyaLeTgrB"
   },
   "outputs": [],
   "source": [
    "x_train, x_test, y_train, y_test = train_test_split(x,y,test_size=0.2, train_size=0.8, shuffle=True)"
   ]
  },
  {
   "cell_type": "code",
   "execution_count": 441,
   "metadata": {
    "colab": {
     "base_uri": "https://localhost:8080/",
     "height": 35
    },
    "colab_type": "code",
    "id": "ksJWN6XnWxNF",
    "outputId": "601ebfcd-9645-4fbe-a2d3-063f0e631e03"
   },
   "outputs": [
    {
     "data": {
      "text/plain": [
       "(16000, 2)"
      ]
     },
     "execution_count": 441,
     "metadata": {
      "tags": []
     },
     "output_type": "execute_result"
    }
   ],
   "source": [
    "x_train.shape"
   ]
  },
  {
   "cell_type": "code",
   "execution_count": 442,
   "metadata": {
    "colab": {
     "base_uri": "https://localhost:8080/",
     "height": 35
    },
    "colab_type": "code",
    "id": "lMLFDNy0sN1G",
    "outputId": "43cb1513-3bcf-4704-cb71-fd70e5569dd1"
   },
   "outputs": [
    {
     "data": {
      "text/plain": [
       "(4000, 2)"
      ]
     },
     "execution_count": 442,
     "metadata": {
      "tags": []
     },
     "output_type": "execute_result"
    }
   ],
   "source": [
    "x_test.shape"
   ]
  },
  {
   "cell_type": "code",
   "execution_count": 443,
   "metadata": {
    "colab": {},
    "colab_type": "code",
    "id": "xvPHhuNdYSqP"
   },
   "outputs": [],
   "source": [
    "x_train = x_train.astype('float32')"
   ]
  },
  {
   "cell_type": "code",
   "execution_count": 444,
   "metadata": {
    "colab": {},
    "colab_type": "code",
    "id": "lkIpLwepJHTs"
   },
   "outputs": [],
   "source": [
    "x_test = x_test.astype('float32')"
   ]
  },
  {
   "cell_type": "code",
   "execution_count": 445,
   "metadata": {
    "colab": {
     "base_uri": "https://localhost:8080/",
     "height": 204
    },
    "colab_type": "code",
    "id": "gcnA5P6mYflP",
    "outputId": "c6192c42-3b83-4c94-c0ac-12a34df9edb2"
   },
   "outputs": [
    {
     "data": {
      "text/html": [
       "<div>\n",
       "<style scoped>\n",
       "    .dataframe tbody tr th:only-of-type {\n",
       "        vertical-align: middle;\n",
       "    }\n",
       "\n",
       "    .dataframe tbody tr th {\n",
       "        vertical-align: top;\n",
       "    }\n",
       "\n",
       "    .dataframe thead th {\n",
       "        text-align: right;\n",
       "    }\n",
       "</style>\n",
       "<table border=\"1\" class=\"dataframe\">\n",
       "  <thead>\n",
       "    <tr style=\"text-align: right;\">\n",
       "      <th></th>\n",
       "      <th>height</th>\n",
       "      <th>weight</th>\n",
       "    </tr>\n",
       "  </thead>\n",
       "  <tbody>\n",
       "    <tr>\n",
       "      <th>11907</th>\n",
       "      <td>0.805</td>\n",
       "      <td>0.5750</td>\n",
       "    </tr>\n",
       "    <tr>\n",
       "      <th>11656</th>\n",
       "      <td>0.835</td>\n",
       "      <td>1.0000</td>\n",
       "    </tr>\n",
       "    <tr>\n",
       "      <th>18605</th>\n",
       "      <td>0.685</td>\n",
       "      <td>0.7625</td>\n",
       "    </tr>\n",
       "    <tr>\n",
       "      <th>15610</th>\n",
       "      <td>0.670</td>\n",
       "      <td>0.7000</td>\n",
       "    </tr>\n",
       "    <tr>\n",
       "      <th>4714</th>\n",
       "      <td>0.645</td>\n",
       "      <td>0.6875</td>\n",
       "    </tr>\n",
       "  </tbody>\n",
       "</table>\n",
       "</div>"
      ],
      "text/plain": [
       "       height  weight\n",
       "11907   0.805  0.5750\n",
       "11656   0.835  1.0000\n",
       "18605   0.685  0.7625\n",
       "15610   0.670  0.7000\n",
       "4714    0.645  0.6875"
      ]
     },
     "execution_count": 445,
     "metadata": {
      "tags": []
     },
     "output_type": "execute_result"
    }
   ],
   "source": [
    "x_train.head()"
   ]
  },
  {
   "cell_type": "code",
   "execution_count": 446,
   "metadata": {
    "colab": {},
    "colab_type": "code",
    "id": "KOahes1Da1xO"
   },
   "outputs": [],
   "source": [
    "from keras.utils import np_utils"
   ]
  },
  {
   "cell_type": "code",
   "execution_count": 447,
   "metadata": {
    "colab": {
     "base_uri": "https://localhost:8080/",
     "height": 125
    },
    "colab_type": "code",
    "id": "EyhZ3G2tf7VA",
    "outputId": "14274b1f-74f6-4875-f84f-79d4ec0d3db4"
   },
   "outputs": [
    {
     "data": {
      "text/plain": [
       "11907    0\n",
       "11656    2\n",
       "18605    2\n",
       "15610    2\n",
       "4714     2\n",
       "Name: label, dtype: object"
      ]
     },
     "execution_count": 447,
     "metadata": {
      "tags": []
     },
     "output_type": "execute_result"
    }
   ],
   "source": [
    "y_train.head()"
   ]
  },
  {
   "cell_type": "code",
   "execution_count": 448,
   "metadata": {
    "colab": {},
    "colab_type": "code",
    "id": "686WjaEbYvVn"
   },
   "outputs": [],
   "source": [
    "y_train = np_utils.to_categorical(y_train)"
   ]
  },
  {
   "cell_type": "code",
   "execution_count": 449,
   "metadata": {
    "colab": {},
    "colab_type": "code",
    "id": "iWkG3VG6iraI"
   },
   "outputs": [],
   "source": [
    "y_test = np_utils.to_categorical(y_test)"
   ]
  },
  {
   "cell_type": "code",
   "execution_count": 450,
   "metadata": {
    "colab": {
     "base_uri": "https://localhost:8080/",
     "height": 143
    },
    "colab_type": "code",
    "id": "PfgtcWgYapE_",
    "outputId": "8c328afb-6e52-497f-f1fe-b47f86393be5"
   },
   "outputs": [
    {
     "data": {
      "text/plain": [
       "array([[1., 0., 0.],\n",
       "       [0., 0., 1.],\n",
       "       [0., 0., 1.],\n",
       "       ...,\n",
       "       [0., 0., 1.],\n",
       "       [0., 1., 0.],\n",
       "       [0., 0., 1.]], dtype=float32)"
      ]
     },
     "execution_count": 450,
     "metadata": {
      "tags": []
     },
     "output_type": "execute_result"
    }
   ],
   "source": [
    "y_train"
   ]
  },
  {
   "cell_type": "code",
   "execution_count": 459,
   "metadata": {
    "colab": {},
    "colab_type": "code",
    "id": "6E2IC2gqgSdS"
   },
   "outputs": [],
   "source": [
    "from keras.models import Sequential\n",
    "from keras.layers.core import Dense, Dropout, Activation\n",
    "from keras.optimizers import SGD"
   ]
  },
  {
   "cell_type": "code",
   "execution_count": 468,
   "metadata": {
    "colab": {},
    "colab_type": "code",
    "id": "MIK0UlHAgh3X"
   },
   "outputs": [],
   "source": [
    "model = Sequential()"
   ]
  },
  {
   "cell_type": "code",
   "execution_count": 469,
   "metadata": {
    "colab": {},
    "colab_type": "code",
    "id": "Lc2EVyETgoU3"
   },
   "outputs": [],
   "source": [
    "model.add(Dense(400,input_dim=2, activation='sigmoid'))"
   ]
  },
  {
   "cell_type": "code",
   "execution_count": 470,
   "metadata": {
    "colab": {},
    "colab_type": "code",
    "id": "f2MI-f9HqzJI"
   },
   "outputs": [],
   "source": [
    "model.add(Dense(200, activation=\"sigmoid\"))"
   ]
  },
  {
   "cell_type": "code",
   "execution_count": 471,
   "metadata": {
    "colab": {},
    "colab_type": "code",
    "id": "x5D6lSHoqLd_"
   },
   "outputs": [],
   "source": [
    "model.add(Dense(3, activation=\"sigmoid\"))"
   ]
  },
  {
   "cell_type": "code",
   "execution_count": 472,
   "metadata": {
    "colab": {},
    "colab_type": "code",
    "id": "CUxdHHuUkq7u"
   },
   "outputs": [],
   "source": [
    "model.compile(optimizer=SGD(lr=0.2), loss='mean_squared_error', metrics=['accuracy'])"
   ]
  },
  {
   "cell_type": "code",
   "execution_count": 473,
   "metadata": {
    "colab": {
     "base_uri": "https://localhost:8080/",
     "height": 269
    },
    "colab_type": "code",
    "id": "DhtCBQvYqVfV",
    "outputId": "42118a4b-36fc-4455-ad9c-7b1ef826d132"
   },
   "outputs": [
    {
     "name": "stdout",
     "output_type": "stream",
     "text": [
      "Model: \"sequential_27\"\n",
      "_________________________________________________________________\n",
      "Layer (type)                 Output Shape              Param #   \n",
      "=================================================================\n",
      "dense_102 (Dense)            (None, 400)               1200      \n",
      "_________________________________________________________________\n",
      "dense_103 (Dense)            (None, 200)               80200     \n",
      "_________________________________________________________________\n",
      "dense_104 (Dense)            (None, 3)                 603       \n",
      "=================================================================\n",
      "Total params: 82,003\n",
      "Trainable params: 82,003\n",
      "Non-trainable params: 0\n",
      "_________________________________________________________________\n"
     ]
    }
   ],
   "source": [
    "model.summary()"
   ]
  },
  {
   "cell_type": "code",
   "execution_count": 475,
   "metadata": {
    "colab": {
     "base_uri": "https://localhost:8080/",
     "height": 1000
    },
    "colab_type": "code",
    "id": "OZMfOD_ohRMH",
    "outputId": "73cd6beb-18cf-418f-fb4f-c465ac0ebc5e"
   },
   "outputs": [
    {
     "name": "stdout",
     "output_type": "stream",
     "text": [
      "Train on 16000 samples, validate on 4000 samples\n",
      "Epoch 1/50\n",
      " - 1s - loss: 0.2165 - accuracy: 0.4212 - val_loss: 0.2179 - val_accuracy: 0.3762\n",
      "Epoch 2/50\n",
      " - 1s - loss: 0.2159 - accuracy: 0.4344 - val_loss: 0.2148 - val_accuracy: 0.3850\n",
      "Epoch 3/50\n",
      " - 1s - loss: 0.2149 - accuracy: 0.4522 - val_loss: 0.2145 - val_accuracy: 0.3850\n",
      "Epoch 4/50\n",
      " - 1s - loss: 0.2140 - accuracy: 0.4504 - val_loss: 0.2131 - val_accuracy: 0.3902\n",
      "Epoch 5/50\n",
      " - 1s - loss: 0.2129 - accuracy: 0.4691 - val_loss: 0.2119 - val_accuracy: 0.4728\n",
      "Epoch 6/50\n",
      " - 1s - loss: 0.2114 - accuracy: 0.4967 - val_loss: 0.2127 - val_accuracy: 0.4610\n",
      "Epoch 7/50\n",
      " - 1s - loss: 0.2097 - accuracy: 0.5054 - val_loss: 0.2095 - val_accuracy: 0.4467\n",
      "Epoch 8/50\n",
      " - 1s - loss: 0.2077 - accuracy: 0.5359 - val_loss: 0.2069 - val_accuracy: 0.6628\n",
      "Epoch 9/50\n",
      " - 1s - loss: 0.2053 - accuracy: 0.5654 - val_loss: 0.2061 - val_accuracy: 0.3850\n",
      "Epoch 10/50\n",
      " - 1s - loss: 0.2022 - accuracy: 0.5939 - val_loss: 0.2017 - val_accuracy: 0.4345\n",
      "Epoch 11/50\n",
      " - 1s - loss: 0.1987 - accuracy: 0.6099 - val_loss: 0.1962 - val_accuracy: 0.6020\n",
      "Epoch 12/50\n",
      " - 1s - loss: 0.1944 - accuracy: 0.6341 - val_loss: 0.1917 - val_accuracy: 0.6185\n",
      "Epoch 13/50\n",
      " - 1s - loss: 0.1891 - accuracy: 0.6481 - val_loss: 0.1857 - val_accuracy: 0.6852\n",
      "Epoch 14/50\n",
      " - 1s - loss: 0.1835 - accuracy: 0.6576 - val_loss: 0.1839 - val_accuracy: 0.6227\n",
      "Epoch 15/50\n",
      " - 1s - loss: 0.1768 - accuracy: 0.6683 - val_loss: 0.1726 - val_accuracy: 0.6952\n",
      "Epoch 16/50\n",
      " - 0s - loss: 0.1702 - accuracy: 0.6713 - val_loss: 0.1657 - val_accuracy: 0.6920\n",
      "Epoch 17/50\n",
      " - 1s - loss: 0.1631 - accuracy: 0.6786 - val_loss: 0.1584 - val_accuracy: 0.6945\n",
      "Epoch 18/50\n",
      " - 1s - loss: 0.1565 - accuracy: 0.6828 - val_loss: 0.1531 - val_accuracy: 0.6812\n",
      "Epoch 19/50\n",
      " - 1s - loss: 0.1500 - accuracy: 0.6866 - val_loss: 0.1464 - val_accuracy: 0.6858\n",
      "Epoch 20/50\n",
      " - 1s - loss: 0.1439 - accuracy: 0.6931 - val_loss: 0.1390 - val_accuracy: 0.7020\n",
      "Epoch 21/50\n",
      " - 1s - loss: 0.1384 - accuracy: 0.6964 - val_loss: 0.1347 - val_accuracy: 0.7000\n",
      "Epoch 22/50\n",
      " - 0s - loss: 0.1330 - accuracy: 0.7017 - val_loss: 0.1307 - val_accuracy: 0.7003\n",
      "Epoch 23/50\n",
      " - 0s - loss: 0.1298 - accuracy: 0.7055 - val_loss: 0.1253 - val_accuracy: 0.7268\n",
      "Epoch 24/50\n",
      " - 0s - loss: 0.1255 - accuracy: 0.7134 - val_loss: 0.1313 - val_accuracy: 0.7030\n",
      "Epoch 25/50\n",
      " - 1s - loss: 0.1218 - accuracy: 0.7204 - val_loss: 0.1188 - val_accuracy: 0.8400\n",
      "Epoch 26/50\n",
      " - 0s - loss: 0.1181 - accuracy: 0.7327 - val_loss: 0.1153 - val_accuracy: 0.8055\n",
      "Epoch 27/50\n",
      " - 1s - loss: 0.1150 - accuracy: 0.7437 - val_loss: 0.1150 - val_accuracy: 0.8008\n",
      "Epoch 28/50\n",
      " - 1s - loss: 0.1127 - accuracy: 0.7533 - val_loss: 0.1138 - val_accuracy: 0.7452\n",
      "Epoch 29/50\n",
      " - 1s - loss: 0.1100 - accuracy: 0.7631 - val_loss: 0.1081 - val_accuracy: 0.7333\n",
      "Epoch 30/50\n",
      " - 0s - loss: 0.1090 - accuracy: 0.7661 - val_loss: 0.1069 - val_accuracy: 0.8422\n",
      "Epoch 31/50\n",
      " - 0s - loss: 0.1067 - accuracy: 0.7815 - val_loss: 0.1051 - val_accuracy: 0.8248\n",
      "Epoch 32/50\n",
      " - 1s - loss: 0.1051 - accuracy: 0.7912 - val_loss: 0.1032 - val_accuracy: 0.8265\n",
      "Epoch 33/50\n",
      " - 1s - loss: 0.1034 - accuracy: 0.7980 - val_loss: 0.1020 - val_accuracy: 0.7958\n",
      "Epoch 34/50\n",
      " - 1s - loss: 0.1020 - accuracy: 0.8033 - val_loss: 0.1011 - val_accuracy: 0.7680\n",
      "Epoch 35/50\n",
      " - 0s - loss: 0.1010 - accuracy: 0.8109 - val_loss: 0.0998 - val_accuracy: 0.8690\n",
      "Epoch 36/50\n",
      " - 0s - loss: 0.1000 - accuracy: 0.8213 - val_loss: 0.0985 - val_accuracy: 0.8090\n",
      "Epoch 37/50\n",
      " - 0s - loss: 0.0990 - accuracy: 0.8222 - val_loss: 0.0977 - val_accuracy: 0.8198\n",
      "Epoch 38/50\n",
      " - 0s - loss: 0.0982 - accuracy: 0.8307 - val_loss: 0.0973 - val_accuracy: 0.8397\n",
      "Epoch 39/50\n",
      " - 1s - loss: 0.0976 - accuracy: 0.8338 - val_loss: 0.0975 - val_accuracy: 0.8382\n",
      "Epoch 40/50\n",
      " - 0s - loss: 0.0963 - accuracy: 0.8373 - val_loss: 0.0980 - val_accuracy: 0.8367\n",
      "Epoch 41/50\n",
      " - 0s - loss: 0.0958 - accuracy: 0.8421 - val_loss: 0.0950 - val_accuracy: 0.8635\n",
      "Epoch 42/50\n",
      " - 0s - loss: 0.0954 - accuracy: 0.8451 - val_loss: 0.0987 - val_accuracy: 0.8560\n",
      "Epoch 43/50\n",
      " - 1s - loss: 0.0946 - accuracy: 0.8508 - val_loss: 0.0940 - val_accuracy: 0.8160\n",
      "Epoch 44/50\n",
      " - 0s - loss: 0.0942 - accuracy: 0.8523 - val_loss: 0.0941 - val_accuracy: 0.8393\n",
      "Epoch 45/50\n",
      " - 1s - loss: 0.0936 - accuracy: 0.8565 - val_loss: 0.0929 - val_accuracy: 0.8692\n",
      "Epoch 46/50\n",
      " - 0s - loss: 0.0931 - accuracy: 0.8592 - val_loss: 0.0934 - val_accuracy: 0.9125\n",
      "Epoch 47/50\n",
      " - 0s - loss: 0.0927 - accuracy: 0.8628 - val_loss: 0.0929 - val_accuracy: 0.8575\n",
      "Epoch 48/50\n",
      " - 1s - loss: 0.0922 - accuracy: 0.8659 - val_loss: 0.0917 - val_accuracy: 0.8730\n",
      "Epoch 49/50\n",
      " - 0s - loss: 0.0917 - accuracy: 0.8688 - val_loss: 0.0913 - val_accuracy: 0.8838\n",
      "Epoch 50/50\n",
      " - 1s - loss: 0.0909 - accuracy: 0.8727 - val_loss: 0.0905 - val_accuracy: 0.8792\n",
      "CPU times: user 35.2 s, sys: 2.91 s, total: 38.1 s\n",
      "Wall time: 25.6 s\n"
     ]
    }
   ],
   "source": [
    "%%time\n",
    "hist = model.fit(x_train, y_train,\n",
    "                epochs=50, batch_size=100,\n",
    "                validation_data=(x_test, y_test), \n",
    "                verbose=2\n",
    "                )"
   ]
  },
  {
   "cell_type": "code",
   "execution_count": 476,
   "metadata": {
    "colab": {},
    "colab_type": "code",
    "id": "hRJw7K8JsdN9"
   },
   "outputs": [],
   "source": [
    "import matplotlib.pyplot as plt\n",
    "%matplotlib inline"
   ]
  },
  {
   "cell_type": "code",
   "execution_count": 477,
   "metadata": {
    "colab": {
     "base_uri": "https://localhost:8080/",
     "height": 281
    },
    "colab_type": "code",
    "id": "iaxVyyWwtaW8",
    "outputId": "338ff37c-2d64-4c93-f1d1-cd99ab9ac0c9"
   },
   "outputs": [
    {
     "data": {
      "image/png": "[encoded data removed]",
      "text/plain": [
       "<Figure size 576x288 with 2 Axes>"
      ]
     },
     "metadata": {
      "needs_background": "light",
      "tags": []
     },
     "output_type": "display_data"
    }
   ],
   "source": [
    "plt.figure(figsize=(8,4))\n",
    "\n",
    "plt.subplot(1,2,1)\n",
    "plt.plot(hist.history['loss'], 'b-', label='traning')\n",
    "plt.plot(hist.history['val_loss'], 'r:', label='validation')\n",
    "plt.title('loss')\n",
    "plt.legend()\n",
    "\n",
    "plt.subplot(1,2,2)\n",
    "plt.plot(hist.history['accuracy'], 'b-', label='training')\n",
    "plt.plot(hist.history['val_accuracy'], 'r:', label='validation')\n",
    "plt.title('accuracy')\n",
    "plt.legend()\n",
    "\n",
    "plt.show()"
   ]
  },
  {
   "cell_type": "code",
   "execution_count": null,
   "metadata": {
    "colab": {},
    "colab_type": "code",
    "id": "E-89pq9aMPGc"
   },
   "outputs": [],
   "source": []
  }
 ],
 "metadata": {
  "colab": {
   "collapsed_sections": [],
   "name": "Untitled2.ipynb",
   "provenance": []
  },
  "kernelspec": {
   "display_name": "Python 3",
   "language": "python",
   "name": "python3"
  },
  "language_info": {
   "codemirror_mode": {
    "name": "ipython",
    "version": 3
   },
   "file_extension": ".py",
   "mimetype": "text/x-python",
   "name": "python",
   "nbconvert_exporter": "python",
   "pygments_lexer": "ipython3",
   "version": "3.7.4"
  }
 },
 "nbformat": 4,
 "nbformat_minor": 1
}
