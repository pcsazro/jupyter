{
 "cells": [
  {
   "cell_type": "markdown",
   "metadata": {},
   "source": [
    "방법1"
   ]
  },
  {
   "cell_type": "code",
   "execution_count": 24,
   "metadata": {},
   "outputs": [],
   "source": [
    "# 라이브러리 지정\n",
    "from sklearn.svm import LinearSVC # 학습방법 SVM(분류SVC, 회귀)\n",
    "from sklearn.metrics import accuracy_score # 학습 후, 정확도 계산\n",
    "\n",
    "# 데이터 준비\n",
    "# 1. 주요 항목\n",
    "learn_data = [[0,0],[1,0],[0,1],[1,1]]\n",
    "# 2. 항목을 가지고 판단하는 결과 -> 1차원 배열\n",
    "learn_label = [0,1,1,0]\n",
    "\n",
    "# 학습 시킬 방법(학습기, estimetor) 객체(알고리즘) 생성\n",
    "clf = LinearSVC()"
   ]
  },
  {
   "cell_type": "code",
   "execution_count": 25,
   "metadata": {},
   "outputs": [
    {
     "data": {
      "text/plain": [
       "LinearSVC(C=1.0, class_weight=None, dual=True, fit_intercept=True,\n",
       "          intercept_scaling=1, loss='squared_hinge', max_iter=1000,\n",
       "          multi_class='ovr', penalty='l2', random_state=None, tol=0.0001,\n",
       "          verbose=0)"
      ]
     },
     "execution_count": 25,
     "metadata": {},
     "output_type": "execute_result"
    }
   ],
   "source": [
    "# 학습하기(fit)\n",
    "clf.fit(learn_data, learn_label) # 문제지(1~4), 답안지(1~4)"
   ]
  },
  {
   "cell_type": "code",
   "execution_count": 26,
   "metadata": {},
   "outputs": [],
   "source": [
    "# 예측하기(predict)\n",
    "test_data = [[0,0],[1,0],[0,1],[1,1]] # 검증 데이터 (문제지)\n",
    "test_label = clf.predict(test_data) # 검중 데이터 결과 (답안지)"
   ]
  },
  {
   "cell_type": "code",
   "execution_count": 27,
   "metadata": {},
   "outputs": [
    {
     "name": "stdout",
     "output_type": "stream",
     "text": [
      "data =  [[0, 0], [1, 0], [0, 1], [1, 1]]\n",
      "result =  [0 0 0 0]\n",
      "정답률 =  0.5\n"
     ]
    }
   ],
   "source": [
    "# 예측 결과 평가\n",
    "print(\"data = \", test_data)\n",
    "print(\"result = \", test_label)\n",
    "print(\"정답률 = \", accuracy_score(learn_label, test_label))"
   ]
  },
  {
   "cell_type": "markdown",
   "metadata": {},
   "source": [
    "방법2"
   ]
  },
  {
   "cell_type": "code",
   "execution_count": 16,
   "metadata": {},
   "outputs": [],
   "source": [
    "from sklearn.neighbors import KNeighborsClassifier\n",
    "from sklearn.metrics import accuracy_score\n",
    "\n",
    "learn_data2 = [[0,0],[1,0],[0,1],[1,1]]\n",
    "learn_label2 = [0,1,1,0]"
   ]
  },
  {
   "cell_type": "code",
   "execution_count": 17,
   "metadata": {},
   "outputs": [
    {
     "data": {
      "text/plain": [
       "KNeighborsClassifier(algorithm='auto', leaf_size=30, metric='minkowski',\n",
       "                     metric_params=None, n_jobs=None, n_neighbors=1, p=2,\n",
       "                     weights='uniform')"
      ]
     },
     "execution_count": 17,
     "metadata": {},
     "output_type": "execute_result"
    }
   ],
   "source": [
    "clf = KNeighborsClassifier(n_neighbors=1)\n",
    "clf.fit(learn_data2, learn_label2)"
   ]
  },
  {
   "cell_type": "code",
   "execution_count": 21,
   "metadata": {},
   "outputs": [
    {
     "name": "stdout",
     "output_type": "stream",
     "text": [
      "[[0, 0], [1, 0], [0, 1], [1, 1]] 의 예측결과 :  [0 1 1 0]\n",
      "정답률 :  1.0\n"
     ]
    }
   ],
   "source": [
    "test_data2 = [[0,0],[1,0],[0,1],[1,1]]\n",
    "test_label2 = clf.predict(test_data2)\n",
    "\n",
    "print(test_data2, \"의 예측결과 : \", test_label2)\n",
    "print(\"정답률 : \", accuracy_score(learn_label2,test_label2))"
   ]
  },
  {
   "cell_type": "code",
   "execution_count": null,
   "metadata": {},
   "outputs": [],
   "source": []
  }
 ],
 "metadata": {
  "kernelspec": {
   "display_name": "Python 3",
   "language": "python",
   "name": "python3"
  },
  "language_info": {
   "codemirror_mode": {
    "name": "ipython",
    "version": 3
   },
   "file_extension": ".py",
   "mimetype": "text/x-python",
   "name": "python",
   "nbconvert_exporter": "python",
   "pygments_lexer": "ipython3",
   "version": "3.7.4"
  }
 },
 "nbformat": 4,
 "nbformat_minor": 2
}
