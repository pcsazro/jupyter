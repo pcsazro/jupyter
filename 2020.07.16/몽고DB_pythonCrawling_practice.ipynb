{
 "cells": [
  {
   "cell_type": "code",
   "execution_count": 66,
   "metadata": {},
   "outputs": [],
   "source": [
    "from bs4 import BeautifulSoup\n",
    "import requests"
   ]
  },
  {
   "cell_type": "code",
   "execution_count": 67,
   "metadata": {},
   "outputs": [],
   "source": [
    "music_url = 'https://www.melon.com/chart/index.htm'\n",
    "headers = {'User-Agent': 'Mozilla/5.0 (X11; CrOS i686 2268.111.0) AppleWebKit/536.11 (KHTML, like Gecko) Chrome/20.0.1132.57'}"
   ]
  },
  {
   "cell_type": "code",
   "execution_count": 68,
   "metadata": {},
   "outputs": [],
   "source": [
    "response = requests.get(music_url, headers=headers)"
   ]
  },
  {
   "cell_type": "code",
   "execution_count": 69,
   "metadata": {},
   "outputs": [],
   "source": [
    "res = response.text"
   ]
  },
  {
   "cell_type": "code",
   "execution_count": 70,
   "metadata": {},
   "outputs": [],
   "source": [
    "soup = BeautifulSoup(res, 'html.parser')"
   ]
  },
  {
   "cell_type": "markdown",
   "metadata": {},
   "source": [
    "이미지  URL 추출"
   ]
  },
  {
   "cell_type": "code",
   "execution_count": 74,
   "metadata": {},
   "outputs": [],
   "source": [
    "image = []"
   ]
  },
  {
   "cell_type": "code",
   "execution_count": 75,
   "metadata": {},
   "outputs": [],
   "source": [
    "for i in soup.select('#tb_list > form > div > table > tbody > tr > td > div.wrap > a > img'):\n",
    "    image.append(i.get('src'))"
   ]
  },
  {
   "cell_type": "code",
   "execution_count": 76,
   "metadata": {
    "scrolled": true
   },
   "outputs": [
    {
     "data": {
      "text/plain": [
       "100"
      ]
     },
     "execution_count": 76,
     "metadata": {},
     "output_type": "execute_result"
    }
   ],
   "source": [
    "len(image)"
   ]
  },
  {
   "cell_type": "code",
   "execution_count": 163,
   "metadata": {
    "scrolled": true
   },
   "outputs": [
    {
     "data": {
      "text/plain": [
       "['https://cdnimg.melon.co.kr/cm2/album/images/104/51/566/10451566_20200626114914_500.jpg/melon/resize/120/quality/80/optimize',\n",
       " 'https://cdnimg.melon.co.kr/cm2/album/images/104/53/701/10453701_20200701151802_500.jpg/melon/resize/120/quality/80/optimize',\n",
       " 'https://cdnimg.melon.co.kr/cm2/album/images/104/52/351/10452351_20200629152036_500.jpg/melon/resize/120/quality/80/optimize',\n",
       " 'https://cdnimg.melon.co.kr/cm/album/images/101/17/789/10117789_500.jpg/melon/resize/120/quality/80/optimize',\n",
       " 'https://cdnimg.melon.co.kr/cm2/album/images/104/59/197/10459197_20200713094850_500.jpg/melon/resize/120/quality/80/optimize',\n",
       " 'https://cdnimg.melon.co.kr/cm2/album/images/104/26/648/10426648_20200506153340_500.jpg/melon/resize/120/quality/80/optimize',\n",
       " 'https://cdnimg.melon.co.kr/cm2/album/images/104/52/354/10452354_20200629152048_500.jpg/melon/resize/120/quality/80/optimize',\n",
       " 'https://cdnimg.melon.co.kr/cm2/album/images/104/09/054/10409054_20200326163459_500.jpg/melon/resize/120/quality/80/optimize',\n",
       " 'https://cdnimg.melon.co.kr/cm2/album/images/104/33/754/10433754_20200521162928_500.jpg/melon/resize/120/quality/80/optimize',\n",
       " 'https://cdnimg.melon.co.kr/cm2/album/images/104/23/289/10423289_20200427153909_500.jpg/melon/resize/120/quality/80/optimize',\n",
       " 'https://cdnimg.melon.co.kr/cm2/album/images/104/47/670/10447670_20200619160619_500.jpg/melon/resize/120/quality/80/optimize',\n",
       " 'https://cdnimg.melon.co.kr/cm2/album/images/104/23/289/10423289_20200427153909_500.jpg/melon/resize/120/quality/80/optimize',\n",
       " 'https://cdnimg.melon.co.kr/cm2/album/images/103/16/394/10316394_500.jpg/melon/resize/120/quality/80/optimize',\n",
       " 'https://cdnimg.melon.co.kr/cm2/album/images/103/30/593/10330593_500.jpg/melon/resize/120/quality/80/optimize',\n",
       " 'https://cdnimg.melon.co.kr/cm2/album/images/104/37/786/10437786_20200601141555_500.jpg/melon/resize/120/quality/80/optimize',\n",
       " 'https://cdnimg.melon.co.kr/cm2/album/images/103/99/190/10399190_20200305151138_500.jpg/melon/resize/120/quality/80/optimize',\n",
       " 'https://cdnimg.melon.co.kr/cm2/album/images/104/56/112/10456112_20200706152509_500.jpg/melon/resize/120/quality/80/optimize',\n",
       " 'https://cdnimg.melon.co.kr/cm2/album/images/103/59/162/10359162_500.jpg/melon/resize/120/quality/80/optimize',\n",
       " 'https://cdnimg.melon.co.kr/cm2/album/images/103/45/880/10345880_20200326181909_500.jpg/melon/resize/120/quality/80/optimize',\n",
       " 'https://cdnimg.melon.co.kr/cm2/album/images/103/75/118/10375118_20200113150502_500.jpg/melon/resize/120/quality/80/optimize',\n",
       " 'https://cdnimg.melon.co.kr/cm2/album/images/104/27/559/10427559_20200513160836_500.jpg/melon/resize/120/quality/80/optimize',\n",
       " 'https://cdnimg.melon.co.kr/cm2/album/images/103/20/500/10320500_500.jpg/melon/resize/120/quality/80/optimize',\n",
       " 'https://cdnimg.melon.co.kr/cm2/album/images/104/05/712/10405712_20200320102711_500.jpg/melon/resize/120/quality/80/optimize',\n",
       " 'https://cdnimg.melon.co.kr/cm2/album/images/103/46/650/10346650_500.jpg/melon/resize/120/quality/80/optimize',\n",
       " 'https://cdnimg.melon.co.kr/cm2/album/images/104/08/131/10408131_20200325151939_500.jpg/melon/resize/120/quality/80/optimize',\n",
       " 'https://cdnimg.melon.co.kr/cm2/album/images/103/81/712/10381712_20200131110358_500.jpg/melon/resize/120/quality/80/optimize',\n",
       " 'https://cdnimg.melon.co.kr/cm2/album/images/104/56/137/10456137_20200706153246_500.jpg/melon/resize/120/quality/80/optimize',\n",
       " 'https://cdnimg.melon.co.kr/cm2/album/images/104/39/549/10439549_20200604115329_500.jpg/melon/resize/120/quality/80/optimize',\n",
       " 'https://cdnimg.melon.co.kr/cm/album/images/101/37/250/10137250_500.jpg/melon/resize/120/quality/80/optimize',\n",
       " 'https://cdnimg.melon.co.kr/cm2/album/images/103/48/811/10348811_500.jpg/melon/resize/120/quality/80/optimize',\n",
       " 'https://cdnimg.melon.co.kr/cm2/album/images/104/60/515/10460515_20200714145650_500.jpg/melon/resize/120/quality/80/optimize',\n",
       " 'https://cdnimg.melon.co.kr/cm2/album/images/104/44/798/10444798_20200615163827_500.jpg/melon/resize/120/quality/80/optimize',\n",
       " 'https://cdnimg.melon.co.kr/cm2/album/images/103/31/947/10331947_500.jpg/melon/resize/120/quality/80/optimize',\n",
       " 'https://cdnimg.melon.co.kr/cm2/album/images/103/77/346/10377346_20200221153622_500.jpg/melon/resize/120/quality/80/optimize',\n",
       " 'https://cdnimg.melon.co.kr/cm/album/images/102/73/641/10273641_500.jpg/melon/resize/120/quality/80/optimize',\n",
       " 'https://cdnimg.melon.co.kr/cm2/album/images/104/36/942/10436942_20200528174019_500.jpg/melon/resize/120/quality/80/optimize',\n",
       " 'https://cdnimg.melon.co.kr/cm2/album/images/103/88/744/10388744_20200214175740_500.jpg/melon/resize/120/quality/80/optimize',\n",
       " 'https://cdnimg.melon.co.kr/cm2/album/images/104/12/335/10412335_20200403104545_500.jpg/melon/resize/120/quality/80/optimize',\n",
       " 'https://cdnimg.melon.co.kr/cm2/album/images/103/68/053/10368053_20191223155246_500.jpg/melon/resize/120/quality/80/optimize',\n",
       " 'https://cdnimg.melon.co.kr/cm/album/images/102/94/603/10294603_500.jpg/melon/resize/120/quality/80/optimize',\n",
       " 'https://cdnimg.melon.co.kr/cm2/album/images/104/47/505/10447505_20200622163157_500.jpg/melon/resize/120/quality/80/optimize',\n",
       " 'https://cdnimg.melon.co.kr/cm2/album/images/103/43/276/10343276_500.jpg/melon/resize/120/quality/80/optimize',\n",
       " 'https://cdnimg.melon.co.kr/cm/album/images/101/49/492/10149492_500.jpg/melon/resize/120/quality/80/optimize',\n",
       " 'https://cdnimg.melon.co.kr/cm2/album/images/104/12/319/10412319_20200403103006_500.jpg/melon/resize/120/quality/80/optimize',\n",
       " 'https://cdnimg.melon.co.kr/cm2/album/images/104/16/723/10416723_20200413150943_500.jpg/melon/resize/120/quality/80/optimize',\n",
       " 'https://cdnimg.melon.co.kr/cm2/album/images/103/88/581/10388581_20200214160016_500.jpg/melon/resize/120/quality/80/optimize',\n",
       " 'https://cdnimg.melon.co.kr/cm2/album/images/104/40/301/10440301_20200605151837_500.jpg/melon/resize/120/quality/80/optimize',\n",
       " 'https://cdnimg.melon.co.kr/cm2/album/images/104/53/772/10453772_20200701154237_500.jpg/melon/resize/120/quality/80/optimize',\n",
       " 'https://cdnimg.melon.co.kr/cm2/album/images/103/17/137/10317137_500.jpg/melon/resize/120/quality/80/optimize',\n",
       " 'https://cdnimg.melon.co.kr/cm2/album/images/103/85/262/10385262_20200206141416_500.jpg/melon/resize/120/quality/80/optimize',\n",
       " 'https://cdnimg.melon.co.kr/cm2/album/images/104/40/381/10440381_20200605161232_500.jpg/melon/resize/120/quality/80/optimize',\n",
       " 'https://cdnimg.melon.co.kr/cm/album/images/102/09/752/10209752_500.jpg/melon/resize/120/quality/80/optimize',\n",
       " 'https://cdnimg.melon.co.kr/cm2/album/images/104/15/229/10415229_20200409150906_500.jpg/melon/resize/120/quality/80/optimize',\n",
       " 'https://cdnimg.melon.co.kr/cm2/album/images/104/61/375/10461375_20200715152522_500.jpg/melon/resize/120/quality/80/optimize',\n",
       " 'https://cdnimg.melon.co.kr/cm2/album/images/103/53/881/10353881_500.jpg/melon/resize/120/quality/80/optimize',\n",
       " 'https://cdnimg.melon.co.kr/cm2/album/images/103/89/281/10389281_20200217162236_500.jpg/melon/resize/120/quality/80/optimize',\n",
       " 'https://cdnimg.melon.co.kr/cm2/album/images/104/23/707/10423707_20200428120752_500.jpg/melon/resize/120/quality/80/optimize',\n",
       " 'https://cdnimg.melon.co.kr/cm2/album/images/104/60/544/10460544_20200714151651_500.jpg/melon/resize/120/quality/80/optimize',\n",
       " 'https://cdnimg.melon.co.kr/cm2/album/images/104/34/085/10434085_20200522112314_500.jpg/melon/resize/120/quality/80/optimize',\n",
       " 'https://cdnimg.melon.co.kr/cm2/album/images/104/60/739/10460739_20200714174642_500.jpg/melon/resize/120/quality/80/optimize',\n",
       " 'https://cdnimg.melon.co.kr/cm2/album/images/104/34/955/10434955_20200525154009_500.jpg/melon/resize/120/quality/80/optimize',\n",
       " 'https://cdnimg.melon.co.kr/cm2/album/images/103/59/204/10359204_500.jpg/melon/resize/120/quality/80/optimize',\n",
       " 'https://cdnimg.melon.co.kr/cm2/album/images/103/72/655/10372655_20200107151231_500.jpg/melon/resize/120/quality/80/optimize',\n",
       " 'https://cdnimg.melon.co.kr/cm2/album/images/103/46/650/10346650_500.jpg/melon/resize/120/quality/80/optimize',\n",
       " 'https://cdnimg.melon.co.kr/cm2/album/images/104/59/255/10459255_20200710162103_500.jpg/melon/resize/120/quality/80/optimize',\n",
       " 'https://cdnimg.melon.co.kr/cm2/album/images/104/00/522/10400522_20200309153009_500.jpg/melon/resize/120/quality/80/optimize',\n",
       " 'https://cdnimg.melon.co.kr/cm2/album/images/104/58/463/10458463_20200709151132_500.jpg/melon/resize/120/quality/80/optimize',\n",
       " 'https://cdnimg.melon.co.kr/cm/album/images/100/37/969/10037969_500.jpg/melon/resize/120/quality/80/optimize',\n",
       " 'https://cdnimg.melon.co.kr/cm2/album/images/103/77/346/10377346_20200221153622_500.jpg/melon/resize/120/quality/80/optimize',\n",
       " 'https://cdnimg.melon.co.kr/cm2/album/images/103/77/346/10377346_20200221153622_500.jpg/melon/resize/120/quality/80/optimize',\n",
       " 'https://cdnimg.melon.co.kr/cm/album/images/102/79/656/10279656_500.jpg/melon/resize/120/quality/80/optimize',\n",
       " 'https://cdnimg.melon.co.kr/cm2/album/images/104/02/513/10402513_20200313112215_500.jpg/melon/resize/120/quality/80/optimize',\n",
       " 'https://cdnimg.melon.co.kr/cm/album/images/102/67/565/10267565_500.jpg/melon/resize/120/quality/80/optimize',\n",
       " 'https://cdnimg.melon.co.kr/cm2/album/images/103/77/346/10377346_20200221153622_500.jpg/melon/resize/120/quality/80/optimize',\n",
       " 'https://cdnimg.melon.co.kr/cm2/album/images/103/91/899/10391899_20200221103027_500.jpg/melon/resize/120/quality/80/optimize',\n",
       " 'https://cdnimg.melon.co.kr/cm2/album/images/103/51/886/10351886_500.jpg/melon/resize/120/quality/80/optimize',\n",
       " 'https://cdnimg.melon.co.kr/cm2/album/images/104/54/538/10454538_20200702150451_500.jpg/melon/resize/120/quality/80/optimize',\n",
       " 'https://cdnimg.melon.co.kr/cm/album/images/102/14/084/10214084_500.jpg/melon/resize/120/quality/80/optimize',\n",
       " 'https://cdnimg.melon.co.kr/cm/album/images/102/17/134/10217134_500.jpg/melon/resize/120/quality/80/optimize',\n",
       " 'https://cdnimg.melon.co.kr/cm2/album/images/104/25/647/10425647_20200504145352_500.jpg/melon/resize/120/quality/80/optimize',\n",
       " 'https://cdnimg.melon.co.kr/cm2/album/images/104/28/037/10428037_20200508132512_500.jpg/melon/resize/120/quality/80/optimize',\n",
       " 'https://cdnimg.melon.co.kr/cm2/album/images/103/77/346/10377346_20200221153622_500.jpg/melon/resize/120/quality/80/optimize',\n",
       " 'https://cdnimg.melon.co.kr/cm2/album/images/104/53/772/10453772_20200701154237_500.jpg/melon/resize/120/quality/80/optimize',\n",
       " 'https://cdnimg.melon.co.kr/cm2/album/images/104/59/845/10459845_20200713152520_500.jpg/melon/resize/120/quality/80/optimize',\n",
       " 'https://cdnimg.melon.co.kr/cm/album/images/102/67/986/10267986_500.jpg/melon/resize/120/quality/80/optimize',\n",
       " 'https://cdnimg.melon.co.kr/cm2/album/images/103/87/838/10387838_20200213114909_500.jpg/melon/resize/120/quality/80/optimize',\n",
       " 'https://cdnimg.melon.co.kr/cm2/album/images/103/77/346/10377346_20200221153622_500.jpg/melon/resize/120/quality/80/optimize',\n",
       " 'https://cdnimg.melon.co.kr/cm/album/images/102/35/362/10235362_500.jpg/melon/resize/120/quality/80/optimize',\n",
       " 'https://cdnimg.melon.co.kr/cm2/album/images/103/77/157/10377157_20200117113740_500.jpg/melon/resize/120/quality/80/optimize',\n",
       " 'https://cdnimg.melon.co.kr/cm2/album/images/104/58/326/10458326_20200713155731_500.jpg/melon/resize/120/quality/80/optimize',\n",
       " 'https://cdnimg.melon.co.kr/cm2/album/images/104/21/264/10421264_20200422152215_500.jpg/melon/resize/120/quality/80/optimize',\n",
       " 'https://cdnimg.melon.co.kr/cm/album/images/026/92/501/2692501_500.jpg/melon/resize/120/quality/80/optimize',\n",
       " 'https://cdnimg.melon.co.kr/cm/album/images/026/95/228/2695228_500.jpg/melon/resize/120/quality/80/optimize',\n",
       " 'https://cdnimg.melon.co.kr/cm2/album/images/103/77/346/10377346_20200221153622_500.jpg/melon/resize/120/quality/80/optimize',\n",
       " 'https://cdnimg.melon.co.kr/cm2/album/images/103/77/346/10377346_20200221153622_500.jpg/melon/resize/120/quality/80/optimize',\n",
       " 'https://cdnimg.melon.co.kr/cm2/album/images/104/22/586/10422586_20200424153114_500.jpg/melon/resize/120/quality/80/optimize',\n",
       " 'https://cdnimg.melon.co.kr/cm2/album/images/103/31/499/10331499_500.jpg/melon/resize/120/quality/80/optimize',\n",
       " 'https://cdnimg.melon.co.kr/cm2/album/images/103/77/346/10377346_20200221153622_500.jpg/melon/resize/120/quality/80/optimize',\n",
       " 'https://cdnimg.melon.co.kr/cm/album/images/102/98/014/10298014_500.jpg/melon/resize/120/quality/80/optimize',\n",
       " 'https://cdnimg.melon.co.kr/cm2/album/images/103/26/710/10326710_500.jpg/melon/resize/120/quality/80/optimize']"
      ]
     },
     "execution_count": 163,
     "metadata": {},
     "output_type": "execute_result"
    }
   ],
   "source": [
    "image"
   ]
  },
  {
   "cell_type": "markdown",
   "metadata": {},
   "source": [
    "제목 추출"
   ]
  },
  {
   "cell_type": "code",
   "execution_count": 77,
   "metadata": {},
   "outputs": [],
   "source": [
    "title = []"
   ]
  },
  {
   "cell_type": "code",
   "execution_count": 79,
   "metadata": {},
   "outputs": [],
   "source": [
    "for i in soup.select('div.ellipsis.rank01 > span > a'):\n",
    "    title.append(i.getText())"
   ]
  },
  {
   "cell_type": "code",
   "execution_count": 81,
   "metadata": {
    "scrolled": true
   },
   "outputs": [
    {
     "data": {
      "text/plain": [
       "100"
      ]
     },
     "execution_count": 81,
     "metadata": {},
     "output_type": "execute_result"
    }
   ],
   "source": [
    "len(title)"
   ]
  },
  {
   "cell_type": "markdown",
   "metadata": {},
   "source": [
    "좋아요 입력 (크롤링 자료 찾지 못함)"
   ]
  },
  {
   "cell_type": "code",
   "execution_count": 82,
   "metadata": {},
   "outputs": [],
   "source": [
    "like = [113791,63280,65487,153449,49420,295179,50405,180655,107605,136134,\n",
    "        81530,100350,108155,114308,66528,86842,52830,221633,100454,240560,\n",
    "        141023,248863,88177,249893,87203,179563,25275,66710,14392,329432,\n",
    "        56680,149563,294566,234462,382200,57394,157584,50665,205481,192918,\n",
    "        59484,83117,336086,76165,83791,88709,29448,169618,14392,20319,\n",
    "        93814,216193,35207,5826,67576,37945,105837,23880,105113,8505,\n",
    "        51297,129283,258112,4603,13499,12460,82935,485883,161133,194129,\n",
    "        92868,43812,230375,155658,42314,121823,26357,39039,263255,48300,\n",
    "        74332,8961,139368,16518,166084,54972,59448,137149,43583,256299,\n",
    "        51826,37107,130846,130044,98090,30030,130658,127616,108275,132023]"
   ]
  },
  {
   "cell_type": "code",
   "execution_count": 83,
   "metadata": {},
   "outputs": [
    {
     "data": {
      "text/plain": [
       "100"
      ]
     },
     "execution_count": 83,
     "metadata": {},
     "output_type": "execute_result"
    }
   ],
   "source": [
    "len(like)"
   ]
  },
  {
   "cell_type": "markdown",
   "metadata": {},
   "source": [
    "가수 추출"
   ]
  },
  {
   "cell_type": "code",
   "execution_count": 94,
   "metadata": {},
   "outputs": [],
   "source": [
    "singer = []"
   ]
  },
  {
   "cell_type": "code",
   "execution_count": 95,
   "metadata": {},
   "outputs": [],
   "source": [
    "for i in soup.select('td >div > div > div.ellipsis.rank02 > span > a'):\n",
    "    singer.append(i.text)"
   ]
  },
  {
   "cell_type": "markdown",
   "metadata": {},
   "source": [
    "불필요한 중복 가수 삭제"
   ]
  },
  {
   "cell_type": "code",
   "execution_count": 97,
   "metadata": {},
   "outputs": [],
   "source": [
    "singer.remove('pH-1')\n",
    "singer.remove('박재범')\n",
    "singer.remove('김하온 (HAON)')\n",
    "singer.remove('주식')\n",
    "singer.remove('Justin Bieber')"
   ]
  },
  {
   "cell_type": "code",
   "execution_count": 98,
   "metadata": {
    "scrolled": true
   },
   "outputs": [
    {
     "data": {
      "text/plain": [
       "100"
      ]
     },
     "execution_count": 98,
     "metadata": {},
     "output_type": "execute_result"
    }
   ],
   "source": [
    "len(singer)"
   ]
  },
  {
   "cell_type": "markdown",
   "metadata": {},
   "source": [
    "## MongoDB에 넣기 위한 json 모양으로 리스트 생성"
   ]
  },
  {
   "cell_type": "code",
   "execution_count": 102,
   "metadata": {},
   "outputs": [],
   "source": [
    "imsi= []"
   ]
  },
  {
   "cell_type": "code",
   "execution_count": 103,
   "metadata": {
    "collapsed": true
   },
   "outputs": [
    {
     "data": {
      "text/plain": [
       "[{'title': 'How You Like That',\n",
       "  'singer': 'BLACKPINK',\n",
       "  'like': 113791,\n",
       "  'img': 'https://cdnimg.melon.co.kr/cm2/album/images/104/51/566/10451566_20200626114914_500.jpg/melon/resize/120/quality/80/optimize'},\n",
       " {'title': 'Summer Hate (Feat. 비)',\n",
       "  'singer': '지코 (ZICO)',\n",
       "  'like': 63280,\n",
       "  'img': 'https://cdnimg.melon.co.kr/cm2/album/images/104/53/701/10453701_20200701151802_500.jpg/melon/resize/120/quality/80/optimize'},\n",
       " {'title': '마리아 (Maria)',\n",
       "  'singer': '화사 (Hwa Sa)',\n",
       "  'like': 65487,\n",
       "  'img': 'https://cdnimg.melon.co.kr/cm2/album/images/104/52/351/10452351_20200629152036_500.jpg/melon/resize/120/quality/80/optimize'},\n",
       " {'title': 'Downtown Baby',\n",
       "  'singer': '블루 (BLOO)',\n",
       "  'like': 153449,\n",
       "  'img': 'https://cdnimg.melon.co.kr/cm/album/images/101/17/789/10117789_500.jpg/melon/resize/120/quality/80/optimize'},\n",
       " {'title': '여름 안에서 (Covered By 싹쓰리) (Feat. 황광희)',\n",
       "  'singer': '싹쓰리 (유두래곤, 린다G, 비룡)',\n",
       "  'like': 49420,\n",
       "  'img': 'https://cdnimg.melon.co.kr/cm2/album/images/104/59/197/10459197_20200713094850_500.jpg/melon/resize/120/quality/80/optimize'},\n",
       " {'title': '에잇(Prod.&Feat. SUGA of BTS)',\n",
       "  'singer': '아이유',\n",
       "  'like': 295179,\n",
       "  'img': 'https://cdnimg.melon.co.kr/cm2/album/images/104/26/648/10426648_20200506153340_500.jpg/melon/resize/120/quality/80/optimize'},\n",
       " {'title': '보라빛 밤 (pporappippam)',\n",
       "  'singer': '선미',\n",
       "  'like': 50405,\n",
       "  'img': 'https://cdnimg.melon.co.kr/cm2/album/images/104/52/354/10452354_20200629152048_500.jpg/melon/resize/120/quality/80/optimize'},\n",
       " {'title': '아로하',\n",
       "  'singer': '조정석',\n",
       "  'like': 180655,\n",
       "  'img': 'https://cdnimg.melon.co.kr/cm2/album/images/104/09/054/10409054_20200326163459_500.jpg/melon/resize/120/quality/80/optimize'},\n",
       " {'title': '사랑하게 될 줄 알았어',\n",
       "  'singer': '전미도',\n",
       "  'like': 107605,\n",
       "  'img': 'https://cdnimg.melon.co.kr/cm2/album/images/104/33/754/10433754_20200521162928_500.jpg/melon/resize/120/quality/80/optimize'},\n",
       " {'title': '살짝 설렜어 (Nonstop)',\n",
       "  'singer': '오마이걸',\n",
       "  'like': 136134,\n",
       "  'img': 'https://cdnimg.melon.co.kr/cm2/album/images/104/23/289/10423289_20200427153909_500.jpg/melon/resize/120/quality/80/optimize'},\n",
       " {'title': 'Into the I-LAND',\n",
       "  'singer': '아이유',\n",
       "  'like': 81530,\n",
       "  'img': 'https://cdnimg.melon.co.kr/cm2/album/images/104/47/670/10447670_20200619160619_500.jpg/melon/resize/120/quality/80/optimize'},\n",
       " {'title': 'Dolphin',\n",
       "  'singer': '오마이걸',\n",
       "  'like': 100350,\n",
       "  'img': 'https://cdnimg.melon.co.kr/cm2/album/images/104/23/289/10423289_20200427153909_500.jpg/melon/resize/120/quality/80/optimize'},\n",
       " {'title': 'Dance Monkey',\n",
       "  'singer': 'Tones And I',\n",
       "  'like': 108155,\n",
       "  'img': 'https://cdnimg.melon.co.kr/cm2/album/images/103/16/394/10316394_500.jpg/melon/resize/120/quality/80/optimize'},\n",
       " {'title': 'Memories',\n",
       "  'singer': 'Maroon 5',\n",
       "  'like': 114308,\n",
       "  'img': 'https://cdnimg.melon.co.kr/cm2/album/images/103/30/593/10330593_500.jpg/melon/resize/120/quality/80/optimize'},\n",
       " {'title': 'MORE & MORE',\n",
       "  'singer': 'TWICE (트와이스)',\n",
       "  'like': 66528,\n",
       "  'img': 'https://cdnimg.melon.co.kr/cm2/album/images/104/37/786/10437786_20200601141555_500.jpg/melon/resize/120/quality/80/optimize'},\n",
       " {'title': '어떻게 지내 (Prod. By VAN.C)',\n",
       "  'singer': '오반',\n",
       "  'like': 86842,\n",
       "  'img': 'https://cdnimg.melon.co.kr/cm2/album/images/103/99/190/10399190_20200305151138_500.jpg/melon/resize/120/quality/80/optimize'},\n",
       " {'title': 'Monster',\n",
       "  'singer': '레드벨벳-아이린&슬기',\n",
       "  'like': 52830,\n",
       "  'img': 'https://cdnimg.melon.co.kr/cm2/album/images/104/56/112/10456112_20200706152509_500.jpg/melon/resize/120/quality/80/optimize'},\n",
       " {'title': 'METEOR',\n",
       "  'singer': '창모 (CHANGMO)',\n",
       "  'like': 221633,\n",
       "  'img': 'https://cdnimg.melon.co.kr/cm2/album/images/103/59/162/10359162_500.jpg/melon/resize/120/quality/80/optimize'},\n",
       " {'title': \"Don't Start Now\",\n",
       "  'singer': 'Dua Lipa',\n",
       "  'like': 100454,\n",
       "  'img': 'https://cdnimg.melon.co.kr/cm2/album/images/103/45/880/10345880_20200326181909_500.jpg/melon/resize/120/quality/80/optimize'},\n",
       " {'title': '아무노래',\n",
       "  'singer': '지코 (ZICO)',\n",
       "  'like': 240560,\n",
       "  'img': 'https://cdnimg.melon.co.kr/cm2/album/images/103/75/118/10375118_20200113150502_500.jpg/melon/resize/120/quality/80/optimize'},\n",
       " {'title': '나비와 고양이 (feat.백현 (BAEKHYUN))',\n",
       "  'singer': '볼빨간사춘기',\n",
       "  'like': 141023,\n",
       "  'img': 'https://cdnimg.melon.co.kr/cm2/album/images/104/27/559/10427559_20200513160836_500.jpg/melon/resize/120/quality/80/optimize'},\n",
       " {'title': '흔들리는 꽃들 속에서 네 샴푸향이 느껴진거야',\n",
       "  'singer': '장범준',\n",
       "  'like': 248863,\n",
       "  'img': 'https://cdnimg.melon.co.kr/cm2/album/images/103/20/500/10320500_500.jpg/melon/resize/120/quality/80/optimize'},\n",
       " {'title': '좋은 사람 있으면 소개시켜줘',\n",
       "  'singer': '조이 (JOY)',\n",
       "  'like': 88177,\n",
       "  'img': 'https://cdnimg.melon.co.kr/cm2/album/images/104/05/712/10405712_20200320102711_500.jpg/melon/resize/120/quality/80/optimize'},\n",
       " {'title': 'Blueming',\n",
       "  'singer': '아이유',\n",
       "  'like': 249893,\n",
       "  'img': 'https://cdnimg.melon.co.kr/cm2/album/images/103/46/650/10346650_500.jpg/melon/resize/120/quality/80/optimize'},\n",
       " {'title': '처음처럼',\n",
       "  'singer': '엠씨더맥스 (M.C the MAX)',\n",
       "  'like': 87203,\n",
       "  'img': 'https://cdnimg.melon.co.kr/cm2/album/images/104/08/131/10408131_20200325151939_500.jpg/melon/resize/120/quality/80/optimize'},\n",
       " {'title': '시작',\n",
       "  'singer': '가호 (Gaho)',\n",
       "  'like': 179563,\n",
       "  'img': 'https://cdnimg.melon.co.kr/cm2/album/images/103/81/712/10381712_20200131110358_500.jpg/melon/resize/120/quality/80/optimize'},\n",
       " {'title': 'PLAY (Feat. 창모)',\n",
       "  'singer': '청하',\n",
       "  'like': 25275,\n",
       "  'img': 'https://cdnimg.melon.co.kr/cm2/album/images/104/56/137/10456137_20200706153246_500.jpg/melon/resize/120/quality/80/optimize'},\n",
       " {'title': '깡 Official Remix',\n",
       "  'singer': '식케이 (Sik-K)',\n",
       "  'like': 66710,\n",
       "  'img': 'https://cdnimg.melon.co.kr/cm2/album/images/104/39/549/10439549_20200604115329_500.jpg/melon/resize/120/quality/80/optimize'},\n",
       " {'title': '2002',\n",
       "  'singer': 'Anne-Marie',\n",
       "  'like': 14392,\n",
       "  'img': 'https://cdnimg.melon.co.kr/cm/album/images/101/37/250/10137250_500.jpg/melon/resize/120/quality/80/optimize'},\n",
       " {'title': '늦은 밤 너의 집 앞 골목길에서',\n",
       "  'singer': '노을',\n",
       "  'like': 329432,\n",
       "  'img': 'https://cdnimg.melon.co.kr/cm2/album/images/103/48/811/10348811_500.jpg/melon/resize/120/quality/80/optimize'},\n",
       " {'title': 'OHIO',\n",
       "  'singer': 'Crush',\n",
       "  'like': 56680,\n",
       "  'img': 'https://cdnimg.melon.co.kr/cm2/album/images/104/60/515/10460515_20200714145650_500.jpg/melon/resize/120/quality/80/optimize'},\n",
       " {'title': '환상동화 (Secret Story of the Swan)',\n",
       "  'singer': 'IZ*ONE (아이즈원)',\n",
       "  'like': 149563,\n",
       "  'img': 'https://cdnimg.melon.co.kr/cm2/album/images/104/44/798/10444798_20200615163827_500.jpg/melon/resize/120/quality/80/optimize'},\n",
       " {'title': '어떻게 이별까지 사랑하겠어, 널 사랑하는 거지',\n",
       "  'singer': 'AKMU (악동뮤지션)',\n",
       "  'like': 294566,\n",
       "  'img': 'https://cdnimg.melon.co.kr/cm2/album/images/103/31/947/10331947_500.jpg/melon/resize/120/quality/80/optimize'},\n",
       " {'title': 'ON',\n",
       "  'singer': '방탄소년단',\n",
       "  'like': 234462,\n",
       "  'img': 'https://cdnimg.melon.co.kr/cm2/album/images/103/77/346/10377346_20200221153622_500.jpg/melon/resize/120/quality/80/optimize'},\n",
       " {'title': '작은 것들을 위한 시 (Boy With Luv) (Feat. Halsey)',\n",
       "  'singer': '방탄소년단',\n",
       "  'like': 382200,\n",
       "  'img': 'https://cdnimg.melon.co.kr/cm/album/images/102/73/641/10273641_500.jpg/melon/resize/120/quality/80/optimize'},\n",
       " {'title': '너에게 난, 나에게 넌',\n",
       "  'singer': '미도와 파라솔',\n",
       "  'like': 57394,\n",
       "  'img': 'https://cdnimg.melon.co.kr/cm2/album/images/104/36/942/10436942_20200528174019_500.jpg/melon/resize/120/quality/80/optimize'},\n",
       " {'title': '마음을 드려요',\n",
       "  'singer': '아이유',\n",
       "  'like': 157584,\n",
       "  'img': 'https://cdnimg.melon.co.kr/cm2/album/images/103/88/744/10388744_20200214175740_500.jpg/melon/resize/120/quality/80/optimize'},\n",
       " {'title': '화려하지 않은 고백',\n",
       "  'singer': '규현 (KYUHYUN)',\n",
       "  'like': 50665,\n",
       "  'img': 'https://cdnimg.melon.co.kr/cm2/album/images/104/12/335/10412335_20200403104545_500.jpg/melon/resize/120/quality/80/optimize'},\n",
       " {'title': 'Psycho',\n",
       "  'singer': 'Red Velvet (레드벨벳)',\n",
       "  'like': 205481,\n",
       "  'img': 'https://cdnimg.melon.co.kr/cm2/album/images/103/68/053/10368053_20191223155246_500.jpg/melon/resize/120/quality/80/optimize'},\n",
       " {'title': '오늘도 빛나는 너에게 (To You My Light) (Feat.이라온)',\n",
       "  'singer': '마크툽 (MAKTUB)',\n",
       "  'like': 192918,\n",
       "  'img': 'https://cdnimg.melon.co.kr/cm/album/images/102/94/603/10294603_500.jpg/melon/resize/120/quality/80/optimize'},\n",
       " {'title': 'Left & Right',\n",
       "  'singer': '세븐틴',\n",
       "  'like': 59484,\n",
       "  'img': 'https://cdnimg.melon.co.kr/cm2/album/images/104/47/505/10447505_20200622163157_500.jpg/melon/resize/120/quality/80/optimize'},\n",
       " {'title': 'Maniac',\n",
       "  'singer': 'Conan Gray',\n",
       "  'like': 83117,\n",
       "  'img': 'https://cdnimg.melon.co.kr/cm2/album/images/103/43/276/10343276_500.jpg/melon/resize/120/quality/80/optimize'},\n",
       " {'title': '모든 날, 모든 순간 (Every day, Every Moment)',\n",
       "  'singer': '폴킴',\n",
       "  'like': 336086,\n",
       "  'img': 'https://cdnimg.melon.co.kr/cm/album/images/101/49/492/10149492_500.jpg/melon/resize/120/quality/80/optimize'},\n",
       " {'title': '이제 나만 믿어요',\n",
       "  'singer': '임영웅',\n",
       "  'like': 76165,\n",
       "  'img': 'https://cdnimg.melon.co.kr/cm2/album/images/104/12/319/10412319_20200403103006_500.jpg/melon/resize/120/quality/80/optimize'},\n",
       " {'title': '덤더럼 (Dumhdurum)',\n",
       "  'singer': 'Apink (에이핑크)',\n",
       "  'like': 83791,\n",
       "  'img': 'https://cdnimg.melon.co.kr/cm2/album/images/104/16/723/10416723_20200413150943_500.jpg/melon/resize/120/quality/80/optimize'},\n",
       " {'title': '그때 그 아인',\n",
       "  'singer': '김필',\n",
       "  'like': 88709,\n",
       "  'img': 'https://cdnimg.melon.co.kr/cm2/album/images/103/88/581/10388581_20200214160016_500.jpg/melon/resize/120/quality/80/optimize'},\n",
       " {'title': '어떻게 지내 (답가)',\n",
       "  'singer': '런치',\n",
       "  'like': 29448,\n",
       "  'img': 'https://cdnimg.melon.co.kr/cm2/album/images/104/40/301/10440301_20200605151837_500.jpg/melon/resize/120/quality/80/optimize'},\n",
       " {'title': '첫 줄',\n",
       "  'singer': '신용재',\n",
       "  'like': 169618,\n",
       "  'img': 'https://cdnimg.melon.co.kr/cm2/album/images/104/53/772/10453772_20200701154237_500.jpg/melon/resize/120/quality/80/optimize'},\n",
       " {'title': '안녕',\n",
       "  'singer': '폴킴',\n",
       "  'like': 14392,\n",
       "  'img': 'https://cdnimg.melon.co.kr/cm2/album/images/103/17/137/10317137_500.jpg/melon/resize/120/quality/80/optimize'},\n",
       " {'title': '돌덩이',\n",
       "  'singer': '하현우 (국카스텐)',\n",
       "  'like': 20319,\n",
       "  'img': 'https://cdnimg.melon.co.kr/cm2/album/images/103/85/262/10385262_20200206141416_500.jpg/melon/resize/120/quality/80/optimize'},\n",
       " {'title': '사랑은 지날수록 더욱 선명하게 남아',\n",
       "  'singer': '전상근',\n",
       "  'like': 93814,\n",
       "  'img': 'https://cdnimg.melon.co.kr/cm2/album/images/104/40/381/10440381_20200605161232_500.jpg/melon/resize/120/quality/80/optimize'},\n",
       " {'title': 'Paris In The Rain',\n",
       "  'singer': 'Lauv',\n",
       "  'like': 216193,\n",
       "  'img': 'https://cdnimg.melon.co.kr/cm/album/images/102/09/752/10209752_500.jpg/melon/resize/120/quality/80/optimize'},\n",
       " {'title': '그대 고운 내사랑',\n",
       "  'singer': '어반자카파',\n",
       "  'like': 35207,\n",
       "  'img': 'https://cdnimg.melon.co.kr/cm2/album/images/104/15/229/10415229_20200409150906_500.jpg/melon/resize/120/quality/80/optimize'},\n",
       " {'title': 'AWay',\n",
       "  'singer': '정은지',\n",
       "  'like': 5826,\n",
       "  'img': 'https://cdnimg.melon.co.kr/cm2/album/images/104/61/375/10461375_20200715152522_500.jpg/melon/resize/120/quality/80/optimize'},\n",
       " {'title': '우리 왜 헤어져야 해',\n",
       "  'singer': '신예영',\n",
       "  'like': 67576,\n",
       "  'img': 'https://cdnimg.melon.co.kr/cm2/album/images/103/53/881/10353881_500.jpg/melon/resize/120/quality/80/optimize'},\n",
       " {'title': 'FIESTA',\n",
       "  'singer': 'IZ*ONE (아이즈원)',\n",
       "  'like': 37945,\n",
       "  'img': 'https://cdnimg.melon.co.kr/cm2/album/images/103/89/281/10389281_20200217162236_500.jpg/melon/resize/120/quality/80/optimize'},\n",
       " {'title': '내 눈물 모아',\n",
       "  'singer': '휘인 (Whee In)',\n",
       "  'like': 105837,\n",
       "  'img': 'https://cdnimg.melon.co.kr/cm2/album/images/104/23/707/10423707_20200428120752_500.jpg/melon/resize/120/quality/80/optimize'},\n",
       " {'title': '거짓말이라도 해서 널 보고싶어',\n",
       "  'singer': '백지영',\n",
       "  'like': 23880,\n",
       "  'img': 'https://cdnimg.melon.co.kr/cm2/album/images/104/60/544/10460544_20200714151651_500.jpg/melon/resize/120/quality/80/optimize'},\n",
       " {'title': '취했나봐',\n",
       "  'singer': '황인욱',\n",
       "  'like': 105113,\n",
       "  'img': 'https://cdnimg.melon.co.kr/cm2/album/images/104/34/085/10434085_20200522112314_500.jpg/melon/resize/120/quality/80/optimize'},\n",
       " {'title': '불 좀 꺼줄래',\n",
       "  'singer': '오반',\n",
       "  'like': 8505,\n",
       "  'img': 'https://cdnimg.melon.co.kr/cm2/album/images/104/60/739/10460739_20200714174642_500.jpg/melon/resize/120/quality/80/optimize'},\n",
       " {'title': 'Candy',\n",
       "  'singer': '백현 (BAEKHYUN)',\n",
       "  'like': 51297,\n",
       "  'img': 'https://cdnimg.melon.co.kr/cm2/album/images/104/34/955/10434955_20200525154009_500.jpg/melon/resize/120/quality/80/optimize'},\n",
       " {'title': '반만',\n",
       "  'singer': '진민호',\n",
       "  'like': 129283,\n",
       "  'img': 'https://cdnimg.melon.co.kr/cm2/album/images/103/59/204/10359204_500.jpg/melon/resize/120/quality/80/optimize'},\n",
       " {'title': '너를 사랑하고 있어',\n",
       "  'singer': '백현 (BAEKHYUN)',\n",
       "  'like': 258112,\n",
       "  'img': 'https://cdnimg.melon.co.kr/cm2/album/images/103/72/655/10372655_20200107151231_500.jpg/melon/resize/120/quality/80/optimize'},\n",
       " {'title': 'Love poem',\n",
       "  'singer': '아이유',\n",
       "  'like': 4603,\n",
       "  'img': 'https://cdnimg.melon.co.kr/cm2/album/images/103/46/650/10346650_500.jpg/melon/resize/120/quality/80/optimize'},\n",
       " {'title': '아직 너의 시간에 살아',\n",
       "  'singer': '이수현',\n",
       "  'like': 13499,\n",
       "  'img': 'https://cdnimg.melon.co.kr/cm2/album/images/104/59/255/10459255_20200710162103_500.jpg/melon/resize/120/quality/80/optimize'},\n",
       " {'title': 'WANNABE',\n",
       "  'singer': 'ITZY (있지)',\n",
       "  'like': 12460,\n",
       "  'img': 'https://cdnimg.melon.co.kr/cm2/album/images/104/00/522/10400522_20200309153009_500.jpg/melon/resize/120/quality/80/optimize'},\n",
       " {'title': '오늘따라 비가 와서 그런가 봐',\n",
       "  'singer': '솔지',\n",
       "  'like': 82935,\n",
       "  'img': 'https://cdnimg.melon.co.kr/cm2/album/images/104/58/463/10458463_20200709151132_500.jpg/melon/resize/120/quality/80/optimize'},\n",
       " {'title': '봄날',\n",
       "  'singer': '방탄소년단',\n",
       "  'like': 485883,\n",
       "  'img': 'https://cdnimg.melon.co.kr/cm/album/images/100/37/969/10037969_500.jpg/melon/resize/120/quality/80/optimize'},\n",
       " {'title': '00:00 (Zero O’Clock)',\n",
       "  'singer': '방탄소년단',\n",
       "  'like': 161133,\n",
       "  'img': 'https://cdnimg.melon.co.kr/cm2/album/images/103/77/346/10377346_20200221153622_500.jpg/melon/resize/120/quality/80/optimize'},\n",
       " {'title': 'Black Swan',\n",
       "  'singer': '방탄소년단',\n",
       "  'like': 194129,\n",
       "  'img': 'https://cdnimg.melon.co.kr/cm2/album/images/103/77/346/10377346_20200221153622_500.jpg/melon/resize/120/quality/80/optimize'},\n",
       " {'title': 'Painkiller',\n",
       "  'singer': 'Ruel',\n",
       "  'like': 92868,\n",
       "  'img': 'https://cdnimg.melon.co.kr/cm/album/images/102/79/656/10279656_500.jpg/melon/resize/120/quality/80/optimize'},\n",
       " {'title': '찐이야',\n",
       "  'singer': '영탁',\n",
       "  'like': 43812,\n",
       "  'img': 'https://cdnimg.melon.co.kr/cm2/album/images/104/02/513/10402513_20200313112215_500.jpg/melon/resize/120/quality/80/optimize'},\n",
       " {'title': 'bad guy',\n",
       "  'singer': 'Billie Eilish',\n",
       "  'like': 230375,\n",
       "  'img': 'https://cdnimg.melon.co.kr/cm/album/images/102/67/565/10267565_500.jpg/melon/resize/120/quality/80/optimize'},\n",
       " {'title': '친구',\n",
       "  'singer': '방탄소년단',\n",
       "  'like': 155658,\n",
       "  'img': 'https://cdnimg.melon.co.kr/cm2/album/images/103/77/346/10377346_20200221153622_500.jpg/melon/resize/120/quality/80/optimize'},\n",
       " {'title': '어느 60대 노부부이야기',\n",
       "  'singer': '임영웅',\n",
       "  'like': 42314,\n",
       "  'img': 'https://cdnimg.melon.co.kr/cm2/album/images/103/91/899/10391899_20200221103027_500.jpg/melon/resize/120/quality/80/optimize'},\n",
       " {'title': 'HIP',\n",
       "  'singer': '마마무 (Mamamoo)',\n",
       "  'like': 121823,\n",
       "  'img': 'https://cdnimg.melon.co.kr/cm2/album/images/103/51/886/10351886_500.jpg/melon/resize/120/quality/80/optimize'},\n",
       " {'title': 'Error (Feat. Loopy)',\n",
       "  'singer': 'ASH ISLAND',\n",
       "  'like': 26357,\n",
       "  'img': 'https://cdnimg.melon.co.kr/cm2/album/images/104/54/538/10454538_20200702150451_500.jpg/melon/resize/120/quality/80/optimize'},\n",
       " {'title': '니가 왜 거기서 나와 (Narr. 고은아)',\n",
       "  'singer': '영탁',\n",
       "  'like': 39039,\n",
       "  'img': 'https://cdnimg.melon.co.kr/cm/album/images/102/14/084/10214084_500.jpg/melon/resize/120/quality/80/optimize'},\n",
       " {'title': '너를 만나',\n",
       "  'singer': '폴킴',\n",
       "  'like': 263255,\n",
       "  'img': 'https://cdnimg.melon.co.kr/cm/album/images/102/17/134/10217134_500.jpg/melon/resize/120/quality/80/optimize'},\n",
       " {'title': 'Happy',\n",
       "  'singer': '태연 (TAEYEON)',\n",
       "  'like': 48300,\n",
       "  'img': 'https://cdnimg.melon.co.kr/cm2/album/images/104/25/647/10425647_20200504145352_500.jpg/melon/resize/120/quality/80/optimize'},\n",
       " {'title': 'Stuck with U',\n",
       "  'singer': 'Ariana Grande',\n",
       "  'like': 74332,\n",
       "  'img': 'https://cdnimg.melon.co.kr/cm2/album/images/104/28/037/10428037_20200508132512_500.jpg/melon/resize/120/quality/80/optimize'},\n",
       " {'title': 'Filter',\n",
       "  'singer': '방탄소년단',\n",
       "  'like': 8961,\n",
       "  'img': 'https://cdnimg.melon.co.kr/cm2/album/images/103/77/346/10377346_20200221153622_500.jpg/melon/resize/120/quality/80/optimize'},\n",
       " {'title': '별이 온다',\n",
       "  'singer': '신용재',\n",
       "  'like': 139368,\n",
       "  'img': 'https://cdnimg.melon.co.kr/cm2/album/images/104/53/772/10453772_20200701154237_500.jpg/melon/resize/120/quality/80/optimize'},\n",
       " {'title': 'Apple',\n",
       "  'singer': '여자친구 (GFRIEND)',\n",
       "  'like': 16518,\n",
       "  'img': 'https://cdnimg.melon.co.kr/cm2/album/images/104/59/845/10459845_20200713152520_500.jpg/melon/resize/120/quality/80/optimize'},\n",
       " {'title': '시든 꽃에 물을 주듯',\n",
       "  'singer': 'HYNN (박혜원)',\n",
       "  'like': 166084,\n",
       "  'img': 'https://cdnimg.melon.co.kr/cm/album/images/102/67/986/10267986_500.jpg/melon/resize/120/quality/80/optimize'},\n",
       " {'title': 'To Die For',\n",
       "  'singer': 'Sam Smith',\n",
       "  'like': 54972,\n",
       "  'img': 'https://cdnimg.melon.co.kr/cm2/album/images/103/87/838/10387838_20200213114909_500.jpg/melon/resize/120/quality/80/optimize'},\n",
       " {'title': 'Moon',\n",
       "  'singer': '방탄소년단',\n",
       "  'like': 59448,\n",
       "  'img': 'https://cdnimg.melon.co.kr/cm2/album/images/103/77/346/10377346_20200221153622_500.jpg/melon/resize/120/quality/80/optimize'},\n",
       " {'title': '12:45 (Stripped)',\n",
       "  'singer': 'Etham',\n",
       "  'like': 137149,\n",
       "  'img': 'https://cdnimg.melon.co.kr/cm/album/images/102/35/362/10235362_500.jpg/melon/resize/120/quality/80/optimize'},\n",
       " {'title': '바램',\n",
       "  'singer': '임영웅',\n",
       "  'like': 43583,\n",
       "  'img': 'https://cdnimg.melon.co.kr/cm2/album/images/103/77/157/10377157_20200117113740_500.jpg/melon/resize/120/quality/80/optimize'},\n",
       " {'title': '10억뷰 (Feat. MOON)',\n",
       "  'singer': '세훈&찬열',\n",
       "  'like': 256299,\n",
       "  'img': 'https://cdnimg.melon.co.kr/cm2/album/images/104/58/326/10458326_20200713155731_500.jpg/melon/resize/120/quality/80/optimize'},\n",
       " {'title': '우리 만남이',\n",
       "  'singer': '폴킴',\n",
       "  'like': 51826,\n",
       "  'img': 'https://cdnimg.melon.co.kr/cm2/album/images/104/21/264/10421264_20200422152215_500.jpg/melon/resize/120/quality/80/optimize'},\n",
       " {'title': '비',\n",
       "  'singer': '폴킴',\n",
       "  'like': 37107,\n",
       "  'img': 'https://cdnimg.melon.co.kr/cm/album/images/026/92/501/2692501_500.jpg/melon/resize/120/quality/80/optimize'},\n",
       " {'title': '아주 NICE',\n",
       "  'singer': '세븐틴',\n",
       "  'like': 130846,\n",
       "  'img': 'https://cdnimg.melon.co.kr/cm/album/images/026/95/228/2695228_500.jpg/melon/resize/120/quality/80/optimize'},\n",
       " {'title': '시차',\n",
       "  'singer': '방탄소년단',\n",
       "  'like': 130044,\n",
       "  'img': 'https://cdnimg.melon.co.kr/cm2/album/images/103/77/346/10377346_20200221153622_500.jpg/melon/resize/120/quality/80/optimize'},\n",
       " {'title': 'We are Bulletproof : the Eternal',\n",
       "  'singer': '방탄소년단',\n",
       "  'like': 98090,\n",
       "  'img': 'https://cdnimg.melon.co.kr/cm2/album/images/103/77/346/10377346_20200221153622_500.jpg/melon/resize/120/quality/80/optimize'},\n",
       " {'title': '너를 그린 우주 (Insomnia2020) (Feat. 이라온)',\n",
       "  'singer': '마크툽 (MAKTUB)',\n",
       "  'like': 30030,\n",
       "  'img': 'https://cdnimg.melon.co.kr/cm2/album/images/104/22/586/10422586_20200424153114_500.jpg/melon/resize/120/quality/80/optimize'},\n",
       " {'title': '조금 취했어 (Prod. 2soo)',\n",
       "  'singer': '임재현',\n",
       "  'like': 130658,\n",
       "  'img': 'https://cdnimg.melon.co.kr/cm2/album/images/103/31/499/10331499_500.jpg/melon/resize/120/quality/80/optimize'},\n",
       " {'title': 'Inner Child',\n",
       "  'singer': '방탄소년단',\n",
       "  'like': 127616,\n",
       "  'img': 'https://cdnimg.melon.co.kr/cm2/album/images/103/77/346/10377346_20200221153622_500.jpg/melon/resize/120/quality/80/optimize'},\n",
       " {'title': '포장마차',\n",
       "  'singer': '황인욱',\n",
       "  'like': 108275,\n",
       "  'img': 'https://cdnimg.melon.co.kr/cm/album/images/102/98/014/10298014_500.jpg/melon/resize/120/quality/80/optimize'},\n",
       " {'title': '사랑이란 멜로는 없어',\n",
       "  'singer': '전상근',\n",
       "  'like': 132023,\n",
       "  'img': 'https://cdnimg.melon.co.kr/cm2/album/images/103/26/710/10326710_500.jpg/melon/resize/120/quality/80/optimize'}]"
      ]
     },
     "execution_count": 103,
     "metadata": {},
     "output_type": "execute_result"
    }
   ],
   "source": [
    "for i in range(100):\n",
    "    melon = {}\n",
    "    melon.update(title = title[i])\n",
    "    melon.update(singer = singer[i])\n",
    "    melon.update(like = like[i])\n",
    "    melon.update(img = image[i])\n",
    "    imsi.append(melon)\n",
    "imsi"
   ]
  },
  {
   "cell_type": "markdown",
   "metadata": {},
   "source": [
    "DB에 저장"
   ]
  },
  {
   "cell_type": "code",
   "execution_count": 105,
   "metadata": {},
   "outputs": [],
   "source": [
    "from pymongo import MongoClient\n",
    "import pymongo"
   ]
  },
  {
   "cell_type": "code",
   "execution_count": 106,
   "metadata": {},
   "outputs": [],
   "source": [
    "conn = pymongo.MongoClient('mongodb://localhost')"
   ]
  },
  {
   "cell_type": "code",
   "execution_count": 113,
   "metadata": {},
   "outputs": [],
   "source": [
    "mel = conn.melon"
   ]
  },
  {
   "cell_type": "code",
   "execution_count": 114,
   "metadata": {},
   "outputs": [
    {
     "data": {
      "text/plain": [
       "Database(MongoClient(host=['localhost:27017'], document_class=dict, tz_aware=False, connect=True), 'melon')"
      ]
     },
     "execution_count": 114,
     "metadata": {},
     "output_type": "execute_result"
    }
   ],
   "source": [
    "mel"
   ]
  },
  {
   "cell_type": "code",
   "execution_count": 115,
   "metadata": {},
   "outputs": [],
   "source": [
    "doc = mel.docu"
   ]
  },
  {
   "cell_type": "code",
   "execution_count": 116,
   "metadata": {},
   "outputs": [
    {
     "data": {
      "text/plain": [
       "Collection(Database(MongoClient(host=['localhost:27017'], document_class=dict, tz_aware=False, connect=True), 'melon'), 'docu')"
      ]
     },
     "execution_count": 116,
     "metadata": {},
     "output_type": "execute_result"
    }
   ],
   "source": [
    "doc"
   ]
  },
  {
   "cell_type": "code",
   "execution_count": 117,
   "metadata": {},
   "outputs": [
    {
     "data": {
      "text/plain": [
       "<pymongo.results.InsertManyResult at 0x1d409708108>"
      ]
     },
     "execution_count": 117,
     "metadata": {},
     "output_type": "execute_result"
    }
   ],
   "source": [
    "doc.insert_many(imsi)"
   ]
  },
  {
   "cell_type": "code",
   "execution_count": 112,
   "metadata": {},
   "outputs": [
    {
     "data": {
      "text/plain": [
       "<pymongo.cursor.Cursor at 0x1d40975dc88>"
      ]
     },
     "execution_count": 112,
     "metadata": {},
     "output_type": "execute_result"
    }
   ],
   "source": [
    "doc.find()"
   ]
  },
  {
   "cell_type": "markdown",
   "metadata": {},
   "source": [
    "### DB에서 CSV로 저장해서 pandas를 이용해 사용"
   ]
  },
  {
   "cell_type": "code",
   "execution_count": 118,
   "metadata": {},
   "outputs": [],
   "source": [
    "import pandas as pd"
   ]
  },
  {
   "cell_type": "code",
   "execution_count": 119,
   "metadata": {},
   "outputs": [],
   "source": [
    "js = pd.read_csv('../data/docu.csv')"
   ]
  },
  {
   "cell_type": "code",
   "execution_count": 120,
   "metadata": {},
   "outputs": [
    {
     "data": {
      "text/html": [
       "<div>\n",
       "<style scoped>\n",
       "    .dataframe tbody tr th:only-of-type {\n",
       "        vertical-align: middle;\n",
       "    }\n",
       "\n",
       "    .dataframe tbody tr th {\n",
       "        vertical-align: top;\n",
       "    }\n",
       "\n",
       "    .dataframe thead th {\n",
       "        text-align: right;\n",
       "    }\n",
       "</style>\n",
       "<table border=\"1\" class=\"dataframe\">\n",
       "  <thead>\n",
       "    <tr style=\"text-align: right;\">\n",
       "      <th></th>\n",
       "      <th>_id</th>\n",
       "      <th>title</th>\n",
       "      <th>singer</th>\n",
       "      <th>like</th>\n",
       "      <th>img</th>\n",
       "    </tr>\n",
       "  </thead>\n",
       "  <tbody>\n",
       "    <tr>\n",
       "      <td>0</td>\n",
       "      <td>5f100d94ba857ecae0ac7843</td>\n",
       "      <td>How You Like That</td>\n",
       "      <td>BLACKPINK</td>\n",
       "      <td>113791</td>\n",
       "      <td>https://cdnimg.melon.co.kr/cm2/album/images/10...</td>\n",
       "    </tr>\n",
       "    <tr>\n",
       "      <td>1</td>\n",
       "      <td>5f100d94ba857ecae0ac7844</td>\n",
       "      <td>Summer Hate (Feat. 비)</td>\n",
       "      <td>지코 (ZICO)</td>\n",
       "      <td>63280</td>\n",
       "      <td>https://cdnimg.melon.co.kr/cm2/album/images/10...</td>\n",
       "    </tr>\n",
       "    <tr>\n",
       "      <td>2</td>\n",
       "      <td>5f100d94ba857ecae0ac7845</td>\n",
       "      <td>마리아 (Maria)</td>\n",
       "      <td>화사 (Hwa Sa)</td>\n",
       "      <td>65487</td>\n",
       "      <td>https://cdnimg.melon.co.kr/cm2/album/images/10...</td>\n",
       "    </tr>\n",
       "    <tr>\n",
       "      <td>3</td>\n",
       "      <td>5f100d94ba857ecae0ac7846</td>\n",
       "      <td>Downtown Baby</td>\n",
       "      <td>블루 (BLOO)</td>\n",
       "      <td>153449</td>\n",
       "      <td>https://cdnimg.melon.co.kr/cm/album/images/101...</td>\n",
       "    </tr>\n",
       "    <tr>\n",
       "      <td>4</td>\n",
       "      <td>5f100d94ba857ecae0ac7847</td>\n",
       "      <td>여름 안에서 (Covered By 싹쓰리) (Feat. 황광희)</td>\n",
       "      <td>싹쓰리 (유두래곤, 린다G, 비룡)</td>\n",
       "      <td>49420</td>\n",
       "      <td>https://cdnimg.melon.co.kr/cm2/album/images/10...</td>\n",
       "    </tr>\n",
       "    <tr>\n",
       "      <td>...</td>\n",
       "      <td>...</td>\n",
       "      <td>...</td>\n",
       "      <td>...</td>\n",
       "      <td>...</td>\n",
       "      <td>...</td>\n",
       "    </tr>\n",
       "    <tr>\n",
       "      <td>95</td>\n",
       "      <td>5f100d94ba857ecae0ac78a2</td>\n",
       "      <td>너를 그린 우주 (Insomnia2020) (Feat. 이라온)</td>\n",
       "      <td>마크툽 (MAKTUB)</td>\n",
       "      <td>30030</td>\n",
       "      <td>https://cdnimg.melon.co.kr/cm2/album/images/10...</td>\n",
       "    </tr>\n",
       "    <tr>\n",
       "      <td>96</td>\n",
       "      <td>5f100d94ba857ecae0ac78a3</td>\n",
       "      <td>조금 취했어 (Prod. 2soo)</td>\n",
       "      <td>임재현</td>\n",
       "      <td>130658</td>\n",
       "      <td>https://cdnimg.melon.co.kr/cm2/album/images/10...</td>\n",
       "    </tr>\n",
       "    <tr>\n",
       "      <td>97</td>\n",
       "      <td>5f100d94ba857ecae0ac78a4</td>\n",
       "      <td>Inner Child</td>\n",
       "      <td>방탄소년단</td>\n",
       "      <td>127616</td>\n",
       "      <td>https://cdnimg.melon.co.kr/cm2/album/images/10...</td>\n",
       "    </tr>\n",
       "    <tr>\n",
       "      <td>98</td>\n",
       "      <td>5f100d94ba857ecae0ac78a5</td>\n",
       "      <td>포장마차</td>\n",
       "      <td>황인욱</td>\n",
       "      <td>108275</td>\n",
       "      <td>https://cdnimg.melon.co.kr/cm/album/images/102...</td>\n",
       "    </tr>\n",
       "    <tr>\n",
       "      <td>99</td>\n",
       "      <td>5f100d94ba857ecae0ac78a6</td>\n",
       "      <td>사랑이란 멜로는 없어</td>\n",
       "      <td>전상근</td>\n",
       "      <td>132023</td>\n",
       "      <td>https://cdnimg.melon.co.kr/cm2/album/images/10...</td>\n",
       "    </tr>\n",
       "  </tbody>\n",
       "</table>\n",
       "<p>100 rows × 5 columns</p>\n",
       "</div>"
      ],
      "text/plain": [
       "                         _id                                title  \\\n",
       "0   5f100d94ba857ecae0ac7843                    How You Like That   \n",
       "1   5f100d94ba857ecae0ac7844                Summer Hate (Feat. 비)   \n",
       "2   5f100d94ba857ecae0ac7845                          마리아 (Maria)   \n",
       "3   5f100d94ba857ecae0ac7846                        Downtown Baby   \n",
       "4   5f100d94ba857ecae0ac7847  여름 안에서 (Covered By 싹쓰리) (Feat. 황광희)   \n",
       "..                       ...                                  ...   \n",
       "95  5f100d94ba857ecae0ac78a2  너를 그린 우주 (Insomnia2020) (Feat. 이라온)   \n",
       "96  5f100d94ba857ecae0ac78a3                  조금 취했어 (Prod. 2soo)   \n",
       "97  5f100d94ba857ecae0ac78a4                          Inner Child   \n",
       "98  5f100d94ba857ecae0ac78a5                                 포장마차   \n",
       "99  5f100d94ba857ecae0ac78a6                          사랑이란 멜로는 없어   \n",
       "\n",
       "                 singer    like  \\\n",
       "0             BLACKPINK  113791   \n",
       "1             지코 (ZICO)   63280   \n",
       "2           화사 (Hwa Sa)   65487   \n",
       "3             블루 (BLOO)  153449   \n",
       "4   싹쓰리 (유두래곤, 린다G, 비룡)   49420   \n",
       "..                  ...     ...   \n",
       "95         마크툽 (MAKTUB)   30030   \n",
       "96                  임재현  130658   \n",
       "97                방탄소년단  127616   \n",
       "98                  황인욱  108275   \n",
       "99                  전상근  132023   \n",
       "\n",
       "                                                  img  \n",
       "0   https://cdnimg.melon.co.kr/cm2/album/images/10...  \n",
       "1   https://cdnimg.melon.co.kr/cm2/album/images/10...  \n",
       "2   https://cdnimg.melon.co.kr/cm2/album/images/10...  \n",
       "3   https://cdnimg.melon.co.kr/cm/album/images/101...  \n",
       "4   https://cdnimg.melon.co.kr/cm2/album/images/10...  \n",
       "..                                                ...  \n",
       "95  https://cdnimg.melon.co.kr/cm2/album/images/10...  \n",
       "96  https://cdnimg.melon.co.kr/cm2/album/images/10...  \n",
       "97  https://cdnimg.melon.co.kr/cm2/album/images/10...  \n",
       "98  https://cdnimg.melon.co.kr/cm/album/images/102...  \n",
       "99  https://cdnimg.melon.co.kr/cm2/album/images/10...  \n",
       "\n",
       "[100 rows x 5 columns]"
      ]
     },
     "execution_count": 120,
     "metadata": {},
     "output_type": "execute_result"
    }
   ],
   "source": [
    "js"
   ]
  },
  {
   "cell_type": "markdown",
   "metadata": {},
   "source": [
    "필요없는 column 삭제"
   ]
  },
  {
   "cell_type": "code",
   "execution_count": 121,
   "metadata": {},
   "outputs": [
    {
     "data": {
      "text/html": [
       "<div>\n",
       "<style scoped>\n",
       "    .dataframe tbody tr th:only-of-type {\n",
       "        vertical-align: middle;\n",
       "    }\n",
       "\n",
       "    .dataframe tbody tr th {\n",
       "        vertical-align: top;\n",
       "    }\n",
       "\n",
       "    .dataframe thead th {\n",
       "        text-align: right;\n",
       "    }\n",
       "</style>\n",
       "<table border=\"1\" class=\"dataframe\">\n",
       "  <thead>\n",
       "    <tr style=\"text-align: right;\">\n",
       "      <th></th>\n",
       "      <th>title</th>\n",
       "      <th>singer</th>\n",
       "      <th>like</th>\n",
       "      <th>img</th>\n",
       "    </tr>\n",
       "  </thead>\n",
       "  <tbody>\n",
       "    <tr>\n",
       "      <td>0</td>\n",
       "      <td>How You Like That</td>\n",
       "      <td>BLACKPINK</td>\n",
       "      <td>113791</td>\n",
       "      <td>https://cdnimg.melon.co.kr/cm2/album/images/10...</td>\n",
       "    </tr>\n",
       "    <tr>\n",
       "      <td>1</td>\n",
       "      <td>Summer Hate (Feat. 비)</td>\n",
       "      <td>지코 (ZICO)</td>\n",
       "      <td>63280</td>\n",
       "      <td>https://cdnimg.melon.co.kr/cm2/album/images/10...</td>\n",
       "    </tr>\n",
       "    <tr>\n",
       "      <td>2</td>\n",
       "      <td>마리아 (Maria)</td>\n",
       "      <td>화사 (Hwa Sa)</td>\n",
       "      <td>65487</td>\n",
       "      <td>https://cdnimg.melon.co.kr/cm2/album/images/10...</td>\n",
       "    </tr>\n",
       "    <tr>\n",
       "      <td>3</td>\n",
       "      <td>Downtown Baby</td>\n",
       "      <td>블루 (BLOO)</td>\n",
       "      <td>153449</td>\n",
       "      <td>https://cdnimg.melon.co.kr/cm/album/images/101...</td>\n",
       "    </tr>\n",
       "    <tr>\n",
       "      <td>4</td>\n",
       "      <td>여름 안에서 (Covered By 싹쓰리) (Feat. 황광희)</td>\n",
       "      <td>싹쓰리 (유두래곤, 린다G, 비룡)</td>\n",
       "      <td>49420</td>\n",
       "      <td>https://cdnimg.melon.co.kr/cm2/album/images/10...</td>\n",
       "    </tr>\n",
       "    <tr>\n",
       "      <td>...</td>\n",
       "      <td>...</td>\n",
       "      <td>...</td>\n",
       "      <td>...</td>\n",
       "      <td>...</td>\n",
       "    </tr>\n",
       "    <tr>\n",
       "      <td>95</td>\n",
       "      <td>너를 그린 우주 (Insomnia2020) (Feat. 이라온)</td>\n",
       "      <td>마크툽 (MAKTUB)</td>\n",
       "      <td>30030</td>\n",
       "      <td>https://cdnimg.melon.co.kr/cm2/album/images/10...</td>\n",
       "    </tr>\n",
       "    <tr>\n",
       "      <td>96</td>\n",
       "      <td>조금 취했어 (Prod. 2soo)</td>\n",
       "      <td>임재현</td>\n",
       "      <td>130658</td>\n",
       "      <td>https://cdnimg.melon.co.kr/cm2/album/images/10...</td>\n",
       "    </tr>\n",
       "    <tr>\n",
       "      <td>97</td>\n",
       "      <td>Inner Child</td>\n",
       "      <td>방탄소년단</td>\n",
       "      <td>127616</td>\n",
       "      <td>https://cdnimg.melon.co.kr/cm2/album/images/10...</td>\n",
       "    </tr>\n",
       "    <tr>\n",
       "      <td>98</td>\n",
       "      <td>포장마차</td>\n",
       "      <td>황인욱</td>\n",
       "      <td>108275</td>\n",
       "      <td>https://cdnimg.melon.co.kr/cm/album/images/102...</td>\n",
       "    </tr>\n",
       "    <tr>\n",
       "      <td>99</td>\n",
       "      <td>사랑이란 멜로는 없어</td>\n",
       "      <td>전상근</td>\n",
       "      <td>132023</td>\n",
       "      <td>https://cdnimg.melon.co.kr/cm2/album/images/10...</td>\n",
       "    </tr>\n",
       "  </tbody>\n",
       "</table>\n",
       "<p>100 rows × 4 columns</p>\n",
       "</div>"
      ],
      "text/plain": [
       "                                  title               singer    like  \\\n",
       "0                     How You Like That            BLACKPINK  113791   \n",
       "1                 Summer Hate (Feat. 비)            지코 (ZICO)   63280   \n",
       "2                           마리아 (Maria)          화사 (Hwa Sa)   65487   \n",
       "3                         Downtown Baby            블루 (BLOO)  153449   \n",
       "4   여름 안에서 (Covered By 싹쓰리) (Feat. 황광희)  싹쓰리 (유두래곤, 린다G, 비룡)   49420   \n",
       "..                                  ...                  ...     ...   \n",
       "95  너를 그린 우주 (Insomnia2020) (Feat. 이라온)         마크툽 (MAKTUB)   30030   \n",
       "96                  조금 취했어 (Prod. 2soo)                  임재현  130658   \n",
       "97                          Inner Child                방탄소년단  127616   \n",
       "98                                 포장마차                  황인욱  108275   \n",
       "99                          사랑이란 멜로는 없어                  전상근  132023   \n",
       "\n",
       "                                                  img  \n",
       "0   https://cdnimg.melon.co.kr/cm2/album/images/10...  \n",
       "1   https://cdnimg.melon.co.kr/cm2/album/images/10...  \n",
       "2   https://cdnimg.melon.co.kr/cm2/album/images/10...  \n",
       "3   https://cdnimg.melon.co.kr/cm/album/images/101...  \n",
       "4   https://cdnimg.melon.co.kr/cm2/album/images/10...  \n",
       "..                                                ...  \n",
       "95  https://cdnimg.melon.co.kr/cm2/album/images/10...  \n",
       "96  https://cdnimg.melon.co.kr/cm2/album/images/10...  \n",
       "97  https://cdnimg.melon.co.kr/cm2/album/images/10...  \n",
       "98  https://cdnimg.melon.co.kr/cm/album/images/102...  \n",
       "99  https://cdnimg.melon.co.kr/cm2/album/images/10...  \n",
       "\n",
       "[100 rows x 4 columns]"
      ]
     },
     "execution_count": 121,
     "metadata": {},
     "output_type": "execute_result"
    }
   ],
   "source": [
    "js.drop('_id', axis=1)"
   ]
  },
  {
   "cell_type": "markdown",
   "metadata": {},
   "source": [
    "## 시각화"
   ]
  },
  {
   "cell_type": "code",
   "execution_count": 124,
   "metadata": {},
   "outputs": [],
   "source": [
    "import matplotlib.pyplot as plt\n",
    "import seaborn as sns"
   ]
  },
  {
   "cell_type": "code",
   "execution_count": 129,
   "metadata": {},
   "outputs": [],
   "source": [
    "import platform\n",
    "\n",
    "path = \"c:/Windows/Fonts/malgun.ttf\"\n",
    "from matplotlib import font_manager, rc\n",
    "if platform.system() == 'Darwin':\n",
    "    rc('font', family='AppleGothic')\n",
    "elif platform.system() == 'Windows':\n",
    "    font_name = font_manager.FontProperties(fname=path).get_name()\n",
    "    rc('font', family=font_name)\n",
    "else:\n",
    "    print('Unknown system... sorry~~~~') "
   ]
  },
  {
   "cell_type": "code",
   "execution_count": 145,
   "metadata": {},
   "outputs": [
    {
     "data": {
      "image/png": "[encoded data removed]",
      "text/plain": [
       "<Figure size 720x720 with 1 Axes>"
      ]
     },
     "metadata": {
      "needs_background": "light"
     },
     "output_type": "display_data"
    }
   ],
   "source": [
    "plt.figure(figsize=[10,10])\n",
    "\n",
    "a = sns.barplot(x='title', y='like', data=js.head(10))\n",
    "\n",
    "for item in a.get_xticklabels():\n",
    "    item.set_rotation(45)\n",
    "\n",
    "plt.show()"
   ]
  },
  {
   "cell_type": "code",
   "execution_count": 162,
   "metadata": {},
   "outputs": [
    {
     "data": {
      "image/png": "[encoded data removed]",
      "text/plain": [
       "<Figure size 720x720 with 1 Axes>"
      ]
     },
     "metadata": {},
     "output_type": "display_data"
    }
   ],
   "source": [
    "plt.figure(figsize=[10,10])\n",
    "plt.pie(js['like'].head(10), \n",
    "        explode=[0,0,0,0,0,0,0,0,0,0], \n",
    "        labels=js['title'].head(10), \n",
    "        autopct='%1.2f%%', # second decimal place\n",
    "        shadow=True, \n",
    "        startangle=90,\n",
    "        textprops={'fontsize': 14}) # text font size\n",
    "plt.axis('equal') #  equal length of X and Y axis\n",
    "plt.title('Melon - Top10(좋아요)', fontsize=20)\n",
    "\n",
    "plt.show()"
   ]
  },
  {
   "cell_type": "code",
   "execution_count": 147,
   "metadata": {},
   "outputs": [
    {
     "data": {
      "image/png": "[encoded data removed]",
      "text/plain": [
       "<Figure size 432x288 with 1 Axes>"
      ]
     },
     "metadata": {
      "needs_background": "light"
     },
     "output_type": "display_data"
    }
   ],
   "source": [
    "plt.figure()\n",
    "plt.barh(js['title'].head(10), js['like'].head(10))\n",
    "plt.show()"
   ]
  },
  {
   "cell_type": "code",
   "execution_count": null,
   "metadata": {},
   "outputs": [],
   "source": []
  }
 ],
 "metadata": {
  "kernelspec": {
   "display_name": "Python 3",
   "language": "python",
   "name": "python3"
  },
  "language_info": {
   "codemirror_mode": {
    "name": "ipython",
    "version": 3
   },
   "file_extension": ".py",
   "mimetype": "text/x-python",
   "name": "python",
   "nbconvert_exporter": "python",
   "pygments_lexer": "ipython3",
   "version": "3.7.4"
  }
 },
 "nbformat": 4,
 "nbformat_minor": 2
}
