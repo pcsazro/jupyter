{
 "cells": [
  {
   "cell_type": "code",
   "execution_count": null,
   "metadata": {
    "colab": {},
    "colab_type": "code",
    "id": "9V2KS58GM8rz"
   },
   "outputs": [],
   "source": [
    "from keras.datasets import mnist  # 손글씨 데이터 가져오기"
   ]
  },
  {
   "cell_type": "code",
   "execution_count": null,
   "metadata": {
    "colab": {},
    "colab_type": "code",
    "id": "uq0XAZRmPPBn"
   },
   "outputs": [],
   "source": [
    "from keras.models import Sequential  # 딥러닝 레이어를 쌓기 위한 틀 역할 객체"
   ]
  },
  {
   "cell_type": "code",
   "execution_count": null,
   "metadata": {
    "colab": {},
    "colab_type": "code",
    "id": "LinXvqUdPfMX"
   },
   "outputs": [],
   "source": [
    "from keras.layers.core import Dense, Dropout, Activation\n",
    "# Dense : 각 레이어에 해당하는 객체\n",
    "# Dropout : 오버피팅을 피하기 위한 가지치기 객체\n",
    "# Activation : 각 레이어마다 다음 레이어에 값과 가중치를 함께 정리하여 넘길 때 \n",
    "              # 선형인 경우 : mse 사용\n",
    "              # 비선형인 경우 : 확률을 가지고 판단(이진분류 : sigmoid, 다중분류 : relu)"
   ]
  },
  {
   "cell_type": "code",
   "execution_count": null,
   "metadata": {
    "colab": {},
    "colab_type": "code",
    "id": "wX3lVN2rQg-v"
   },
   "outputs": [],
   "source": [
    "from keras.optimizers import Adam\n",
    "# Optimizer : 딥러닝 학습시,얼마나 학습해 나갈것인가를 지정\n",
    "# Stochastic Gradient Decent(SGD) : 확률론적인 많은 양을 움직이게 하는 방법\n",
    "# RMSProp : 세세하게 한번씩 학습률을 결정하는 방법\n",
    "# Adam : 구간에 따라 학습률을 결정하는 방법"
   ]
  },
  {
   "cell_type": "code",
   "execution_count": null,
   "metadata": {
    "colab": {},
    "colab_type": "code",
    "id": "41HJaPr5YllP"
   },
   "outputs": [],
   "source": [
    "from keras.utils import np_utils\n",
    "# 딥러닝은 항상 명목형인 데이터는 \"one hot encoding(원핫인코딩)\"을 해주어야 한다.\n",
    "# to_categorical()"
   ]
  },
  {
   "cell_type": "code",
   "execution_count": null,
   "metadata": {
    "colab": {
     "base_uri": "https://localhost:8080/",
     "height": 53
    },
    "colab_type": "code",
    "id": "vYe-A5m5aQu1",
    "outputId": "58c53998-b750-41e1-faff-be5ebe8ce073"
   },
   "outputs": [
    {
     "name": "stdout",
     "output_type": "stream",
     "text": [
      "Downloading data from https://s3.amazonaws.com/img-datasets/mnist.npz\n",
      "11493376/11490434 [==============================] - 0s 0us/step\n"
     ]
    }
   ],
   "source": [
    "(X_train, y_train),(X_test, y_test) = mnist.load_data()"
   ]
  },
  {
   "cell_type": "code",
   "execution_count": null,
   "metadata": {
    "colab": {
     "base_uri": "https://localhost:8080/",
     "height": 35
    },
    "colab_type": "code",
    "id": "FhKyCRIWbo5Y",
    "outputId": "15fd36ce-5afa-4064-f453-80b779eb12b3"
   },
   "outputs": [
    {
     "data": {
      "text/plain": [
       "(60000, 28, 28)"
      ]
     },
     "execution_count": 10,
     "metadata": {
      "tags": []
     },
     "output_type": "execute_result"
    }
   ],
   "source": [
    "X_train.shape"
   ]
  },
  {
   "cell_type": "code",
   "execution_count": null,
   "metadata": {
    "colab": {
     "base_uri": "https://localhost:8080/",
     "height": 35
    },
    "colab_type": "code",
    "id": "VqaT1Z60b2-2",
    "outputId": "8733b4e0-a167-401e-c73f-624ad5ed110a"
   },
   "outputs": [
    {
     "data": {
      "text/plain": [
       "array([5, 0, 4, ..., 5, 6, 8], dtype=uint8)"
      ]
     },
     "execution_count": 13,
     "metadata": {
      "tags": []
     },
     "output_type": "execute_result"
    }
   ],
   "source": [
    "y_train"
   ]
  },
  {
   "cell_type": "code",
   "execution_count": null,
   "metadata": {
    "colab": {},
    "colab_type": "code",
    "id": "gk561KtOb8Vz"
   },
   "outputs": [],
   "source": [
    "X_train = X_train.reshape(60000,784).astype('float32')\n",
    "# 2차원 배열(이미지 파일) -> 1차원 배열\n",
    "# reshape : 1차원 배열로 만들어주는 작업"
   ]
  },
  {
   "cell_type": "code",
   "execution_count": null,
   "metadata": {
    "colab": {},
    "colab_type": "code",
    "id": "f_L0-IiFd5Hk"
   },
   "outputs": [],
   "source": [
    "X_test = X_test.reshape(10000,784).astype('float32')\n",
    "# ai에서 분석데이터는 1차원만 허용"
   ]
  },
  {
   "cell_type": "code",
   "execution_count": null,
   "metadata": {
    "colab": {},
    "colab_type": "code",
    "id": "FY43SwtReRTY"
   },
   "outputs": [],
   "source": [
    "X_train[0]"
   ]
  },
  {
   "cell_type": "code",
   "execution_count": null,
   "metadata": {
    "colab": {},
    "colab_type": "code",
    "id": "WqgRXvefehIQ"
   },
   "outputs": [],
   "source": [
    "# 정규화\n",
    "X_train /= 255"
   ]
  },
  {
   "cell_type": "code",
   "execution_count": null,
   "metadata": {
    "colab": {},
    "colab_type": "code",
    "id": "cA4SWnqSe8No"
   },
   "outputs": [],
   "source": [
    "X_train[0]"
   ]
  },
  {
   "cell_type": "code",
   "execution_count": null,
   "metadata": {
    "colab": {},
    "colab_type": "code",
    "id": "7-KJ-gZ8e_ZY"
   },
   "outputs": [],
   "source": [
    "X_test /= 255"
   ]
  },
  {
   "cell_type": "code",
   "execution_count": null,
   "metadata": {
    "colab": {},
    "colab_type": "code",
    "id": "BgmTQtoRfErQ"
   },
   "outputs": [],
   "source": [
    "y_train = np_utils.to_categorical(y_train, 10)\n",
    "# 명목형을 one hot encoding으로 변경"
   ]
  },
  {
   "cell_type": "code",
   "execution_count": null,
   "metadata": {
    "colab": {},
    "colab_type": "code",
    "id": "7CHytpLDf11j"
   },
   "outputs": [],
   "source": [
    "y_test = np_utils.to_categorical(y_test, 10)"
   ]
  },
  {
   "cell_type": "code",
   "execution_count": null,
   "metadata": {
    "colab": {
     "base_uri": "https://localhost:8080/",
     "height": 35
    },
    "colab_type": "code",
    "id": "VKiOTFC4f-Zf",
    "outputId": "a76bcd25-ae3b-46dc-8deb-d4f586cf7637"
   },
   "outputs": [
    {
     "data": {
      "text/plain": [
       "array([0., 0., 0., 0., 0., 0., 0., 1., 0., 0.], dtype=float32)"
      ]
     },
     "execution_count": 27,
     "metadata": {
      "tags": []
     },
     "output_type": "execute_result"
    }
   ],
   "source": [
    "y_test[0]"
   ]
  },
  {
   "cell_type": "code",
   "execution_count": null,
   "metadata": {
    "colab": {},
    "colab_type": "code",
    "id": "LgoKkSbXf_6k"
   },
   "outputs": [],
   "source": []
  }
 ],
 "metadata": {
  "colab": {
   "name": "딥러닝 작동 구조.ipynb",
   "provenance": []
  },
  "kernelspec": {
   "display_name": "Python 3",
   "language": "python",
   "name": "python3"
  },
  "language_info": {
   "codemirror_mode": {
    "name": "ipython",
    "version": 3
   },
   "file_extension": ".py",
   "mimetype": "text/x-python",
   "name": "python",
   "nbconvert_exporter": "python",
   "pygments_lexer": "ipython3",
   "version": "3.7.4"
  }
 },
 "nbformat": 4,
 "nbformat_minor": 1
}
