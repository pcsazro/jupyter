{
 "cells": [
  {
   "cell_type": "code",
   "execution_count": 1,
   "metadata": {},
   "outputs": [],
   "source": [
    "from nltk.tokenize import word_tokenize\n",
    "import nltk"
   ]
  },
  {
   "cell_type": "code",
   "execution_count": 58,
   "metadata": {},
   "outputs": [],
   "source": [
    "train = [\n",
    "    ('i like you','pos'),('i hate you','neg'),\n",
    "    ('Idiot', 'neg'),('i like her', 'pos'),\n",
    "    ('The rabbit-hole went straight on like a tunnel for some way','pos'),('Our family always HATED cats','neg'),\n",
    "    ('she did not like to drop the jar for fear of killing somebody','pos'),('you will understand why it is I hate cats and dogs','neg'),\n",
    "    ('Which was very likely true','pos'),('whatever happens','neg')\n",
    "]"
   ]
  },
  {
   "cell_type": "code",
   "execution_count": 59,
   "metadata": {},
   "outputs": [
    {
     "name": "stdout",
     "output_type": "stream",
     "text": [
      "('i like you', 'pos')\n",
      "('i hate you', 'neg')\n",
      "('Idiot', 'neg')\n",
      "('i like her', 'pos')\n",
      "('The rabbit-hole went straight on like a tunnel for some way', 'pos')\n",
      "('Our family always HATED cats', 'neg')\n",
      "('she did not like to drop the jar for fear of killing somebody', 'pos')\n",
      "('you will understand why it is I hate cats and dogs', 'neg')\n",
      "('Which was very likely true', 'pos')\n",
      "('whatever happens', 'neg')\n"
     ]
    }
   ],
   "source": [
    "for sentence in train:\n",
    "    print(sentence)"
   ]
  },
  {
   "cell_type": "code",
   "execution_count": 60,
   "metadata": {},
   "outputs": [
    {
     "name": "stdout",
     "output_type": "stream",
     "text": [
      "i\n",
      "like\n",
      "you\n",
      "i\n",
      "hate\n",
      "you\n",
      "Idiot\n",
      "i\n",
      "like\n",
      "her\n",
      "The\n",
      "rabbit-hole\n",
      "went\n",
      "straight\n",
      "on\n",
      "like\n",
      "a\n",
      "tunnel\n",
      "for\n",
      "some\n",
      "way\n",
      "Our\n",
      "family\n",
      "always\n",
      "HATED\n",
      "cats\n",
      "she\n",
      "did\n",
      "not\n",
      "like\n",
      "to\n",
      "drop\n",
      "the\n",
      "jar\n",
      "for\n",
      "fear\n",
      "of\n",
      "killing\n",
      "somebody\n",
      "you\n",
      "will\n",
      "understand\n",
      "why\n",
      "it\n",
      "is\n",
      "I\n",
      "hate\n",
      "cats\n",
      "and\n",
      "dogs\n",
      "Which\n",
      "was\n",
      "very\n",
      "likely\n",
      "true\n",
      "whatever\n",
      "happens\n"
     ]
    }
   ],
   "source": [
    "for sentence in train:\n",
    "    for word in word_tokenize(sentence[0]):\n",
    "        print(word)"
   ]
  },
  {
   "cell_type": "code",
   "execution_count": 61,
   "metadata": {},
   "outputs": [
    {
     "data": {
      "text/plain": [
       "{'HATED',\n",
       " 'I',\n",
       " 'Idiot',\n",
       " 'Our',\n",
       " 'The',\n",
       " 'Which',\n",
       " 'a',\n",
       " 'always',\n",
       " 'and',\n",
       " 'cats',\n",
       " 'did',\n",
       " 'dogs',\n",
       " 'drop',\n",
       " 'family',\n",
       " 'fear',\n",
       " 'for',\n",
       " 'happens',\n",
       " 'hate',\n",
       " 'her',\n",
       " 'i',\n",
       " 'is',\n",
       " 'it',\n",
       " 'jar',\n",
       " 'killing',\n",
       " 'like',\n",
       " 'likely',\n",
       " 'not',\n",
       " 'of',\n",
       " 'on',\n",
       " 'rabbit-hole',\n",
       " 'she',\n",
       " 'some',\n",
       " 'somebody',\n",
       " 'straight',\n",
       " 'the',\n",
       " 'to',\n",
       " 'true',\n",
       " 'tunnel',\n",
       " 'understand',\n",
       " 'very',\n",
       " 'was',\n",
       " 'way',\n",
       " 'went',\n",
       " 'whatever',\n",
       " 'why',\n",
       " 'will',\n",
       " 'you'}"
      ]
     },
     "execution_count": 61,
     "metadata": {},
     "output_type": "execute_result"
    }
   ],
   "source": [
    "all_words = set(word for sentence in train for word in word_tokenize(sentence[0]))\n",
    "all_words"
   ]
  },
  {
   "cell_type": "markdown",
   "metadata": {},
   "source": [
    "### t : 각 단어가 문장에서 나왔는지 유무를 dic로 만들어주는것"
   ]
  },
  {
   "cell_type": "code",
   "execution_count": 68,
   "metadata": {},
   "outputs": [],
   "source": [
    "t = [({word : (word in word_tokenize(x[0])) for word in  all_words}, x[1]) for x in train]"
   ]
  },
  {
   "cell_type": "code",
   "execution_count": 69,
   "metadata": {},
   "outputs": [],
   "source": [
    "classifier = nltk.NaiveBayesClassifier.train(t)  "
   ]
  },
  {
   "cell_type": "code",
   "execution_count": 70,
   "metadata": {},
   "outputs": [
    {
     "name": "stdout",
     "output_type": "stream",
     "text": [
      "Most Informative Features\n",
      "                    like = False             neg : pos    =      3.7 : 1.0\n",
      "                     you = True              neg : pos    =      1.7 : 1.0\n",
      "                       i = True              pos : neg    =      1.7 : 1.0\n",
      "                    cats = False             pos : neg    =      1.6 : 1.0\n",
      "                     for = False             neg : pos    =      1.6 : 1.0\n",
      "                    hate = False             pos : neg    =      1.6 : 1.0\n",
      "                       i = False             neg : pos    =      1.3 : 1.0\n",
      "                     you = False             pos : neg    =      1.3 : 1.0\n",
      "                     and = False             pos : neg    =      1.2 : 1.0\n",
      "                       I = False             pos : neg    =      1.2 : 1.0\n"
     ]
    }
   ],
   "source": [
    "classifier.show_most_informative_features()"
   ]
  },
  {
   "cell_type": "code",
   "execution_count": 71,
   "metadata": {},
   "outputs": [],
   "source": [
    "test_sentence = 'When the procession came opposite to Alice'"
   ]
  },
  {
   "cell_type": "code",
   "execution_count": 72,
   "metadata": {},
   "outputs": [],
   "source": [
    "test_sent_features = {word.lower(): (word in word_tokenize(test_sentence.lower())) for word in all_words}"
   ]
  },
  {
   "cell_type": "code",
   "execution_count": 74,
   "metadata": {},
   "outputs": [
    {
     "data": {
      "text/plain": [
       "{'happens': False,\n",
       " 'why': False,\n",
       " 'did': False,\n",
       " 'true': False,\n",
       " 'hate': False,\n",
       " 'whatever': False,\n",
       " 'fear': False,\n",
       " 'is': False,\n",
       " 'way': False,\n",
       " 'cats': False,\n",
       " 'will': False,\n",
       " 'it': False,\n",
       " 'like': False,\n",
       " 'drop': False,\n",
       " 'idiot': False,\n",
       " 'our': False,\n",
       " 'to': True,\n",
       " 'was': False,\n",
       " 'likely': False,\n",
       " 'a': False,\n",
       " 'somebody': False,\n",
       " 'family': False,\n",
       " 'you': False,\n",
       " 'on': False,\n",
       " 'i': False,\n",
       " 'went': False,\n",
       " 'her': False,\n",
       " 'some': False,\n",
       " 'she': False,\n",
       " 'for': False,\n",
       " 'and': False,\n",
       " 'jar': False,\n",
       " 'of': False,\n",
       " 'rabbit-hole': False,\n",
       " 'very': False,\n",
       " 'understand': False,\n",
       " 'straight': False,\n",
       " 'killing': False,\n",
       " 'dogs': False,\n",
       " 'tunnel': False,\n",
       " 'not': False,\n",
       " 'the': True,\n",
       " 'hated': False,\n",
       " 'always': False,\n",
       " 'which': False}"
      ]
     },
     "execution_count": 74,
     "metadata": {},
     "output_type": "execute_result"
    }
   ],
   "source": [
    "test_sent_features"
   ]
  },
  {
   "cell_type": "code",
   "execution_count": 73,
   "metadata": {},
   "outputs": [
    {
     "data": {
      "text/plain": [
       "'neg'"
      ]
     },
     "execution_count": 73,
     "metadata": {},
     "output_type": "execute_result"
    }
   ],
   "source": [
    "classifier.classify(test_sent_features)"
   ]
  },
  {
   "cell_type": "code",
   "execution_count": null,
   "metadata": {},
   "outputs": [],
   "source": []
  }
 ],
 "metadata": {
  "kernelspec": {
   "display_name": "Python 3",
   "language": "python",
   "name": "python3"
  },
  "language_info": {
   "codemirror_mode": {
    "name": "ipython",
    "version": 3
   },
   "file_extension": ".py",
   "mimetype": "text/x-python",
   "name": "python",
   "nbconvert_exporter": "python",
   "pygments_lexer": "ipython3",
   "version": "3.7.4"
  }
 },
 "nbformat": 4,
 "nbformat_minor": 2
}
